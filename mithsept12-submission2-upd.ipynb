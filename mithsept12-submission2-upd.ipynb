{
 "cells": [
  {
   "cell_type": "markdown",
   "metadata": {},
   "source": [
    "Objectives:-\n",
    "1. loading necessary libraries\n",
    "2. reading  the data\n",
    "3. Exploring Data and initial analysis \n",
    "4. Feature Extraction\n",
    "5. Data Type Conversion\n",
    "6. Checking Null counts\n",
    "7. checking outliers\n",
    "8. Data Preparation - Preprocessing pipeline\n",
    "9. Target value distribution.\n",
    "10. Visualisations\n",
    "11. Dividing data into training and validation subsets\n",
    "12. model building using linear and non linear, and nonparametric model(KNN)\n",
    "13. Test data preparation submission\n",
    "14. Finding important Features\n",
    "15. Model insights using ROC AUC curve\n",
    "16. Recomendations to the client "
   ]
  },
  {
   "cell_type": "code",
   "execution_count": 1,
   "metadata": {},
   "outputs": [],
   "source": [
    "#importing necessary libraries\n",
    "import os\n",
    "import numpy as np\n",
    "import pandas as pd\n",
    "\n",
    "#preprocessing libraries\n",
    "from sklearn import preprocessing\n",
    "from sklearn.pipeline import Pipeline\n",
    "from sklearn.compose import ColumnTransformer\n",
    "from sklearn.impute import SimpleImputer\n",
    "from sklearn.preprocessing import OneHotEncoder\n",
    "from sklearn.preprocessing import StandardScaler\n",
    "from sklearn.model_selection import train_test_split\n",
    "from sklearn.preprocessing import LabelBinarizer\n",
    "\n",
    "#model building libraries\n",
    "from sklearn.model_selection import GridSearchCV, cross_val_score, StratifiedKFold\n",
    "from sklearn.tree import DecisionTreeClassifier\n",
    "from sklearn.ensemble import RandomForestClassifier\n",
    "from sklearn.svm import SVC\n",
    "from sklearn.linear_model import LogisticRegression\n",
    "from xgboost import XGBClassifier\n",
    "from sklearn.ensemble import GradientBoostingClassifier\n",
    "from sklearn.ensemble import AdaBoostClassifier\n",
    "from sklearn.ensemble import VotingClassifier\n",
    "\n",
    "#metric libraries\n",
    "from sklearn.metrics import classification_report\n",
    "from sklearn.metrics import accuracy_score, recall_score, precision_score,f1_score\n",
    "from sklearn.metrics import confusion_matrix\n",
    "from sklearn.metrics import roc_curve, roc_auc_score, precision_recall_curve, auc, make_scorer \n",
    "#visualisations libraries\n",
    "import matplotlib.pyplot as plt\n",
    "import seaborn as sns\n",
    "\n",
    "from imblearn.over_sampling import SMOTE\n",
    "\n",
    "import warnings\n",
    "warnings.filterwarnings('ignore')\n",
    "\n",
    "pd.set_option('display.float_format', lambda x: '{:.3f}'.format(x)) #Limiting floats output to 3 decimal points\n"
   ]
  },
  {
   "cell_type": "code",
   "execution_count": 2,
   "metadata": {},
   "outputs": [
    {
     "data": {
      "text/plain": [
       "'C:\\\\Users\\\\shashidhar\\\\Mith_sept12_shashidhar'"
      ]
     },
     "execution_count": 2,
     "metadata": {},
     "output_type": "execute_result"
    }
   ],
   "source": [
    "# to find the current working directory\n",
    "os.getcwd()"
   ]
  },
  {
   "cell_type": "markdown",
   "metadata": {},
   "source": [
    "# Reading the Data"
   ]
  },
  {
   "cell_type": "code",
   "execution_count": 3,
   "metadata": {},
   "outputs": [
    {
     "name": "stdout",
     "output_type": "stream",
     "text": [
      "(76529, 11)\n",
      "(19133, 10)\n"
     ]
    },
    {
     "data": {
      "text/html": [
       "<div>\n",
       "<style scoped>\n",
       "    .dataframe tbody tr th:only-of-type {\n",
       "        vertical-align: middle;\n",
       "    }\n",
       "\n",
       "    .dataframe tbody tr th {\n",
       "        vertical-align: top;\n",
       "    }\n",
       "\n",
       "    .dataframe thead th {\n",
       "        text-align: right;\n",
       "    }\n",
       "</style>\n",
       "<table border=\"1\" class=\"dataframe\">\n",
       "  <thead>\n",
       "    <tr style=\"text-align: right;\">\n",
       "      <th></th>\n",
       "      <th>transaction_number</th>\n",
       "      <th>user_id</th>\n",
       "      <th>payment_method</th>\n",
       "      <th>partner_id</th>\n",
       "      <th>partner_category</th>\n",
       "      <th>country</th>\n",
       "      <th>device_type</th>\n",
       "      <th>money_transacted</th>\n",
       "      <th>transaction_initiation</th>\n",
       "      <th>partner_pricing_category</th>\n",
       "      <th>is_fraud</th>\n",
       "    </tr>\n",
       "  </thead>\n",
       "  <tbody>\n",
       "    <tr>\n",
       "      <th>0</th>\n",
       "      <td>144703125000</td>\n",
       "      <td>17539344</td>\n",
       "      <td>sbi_atm_cum_debit_card</td>\n",
       "      <td>47334</td>\n",
       "      <td>cat_1</td>\n",
       "      <td>IND_INR</td>\n",
       "      <td>android_devices</td>\n",
       "      <td>-5.000</td>\n",
       "      <td>2016-11-15 19:16:12+00:00</td>\n",
       "      <td>2</td>\n",
       "      <td>0</td>\n",
       "    </tr>\n",
       "    <tr>\n",
       "      <th>1</th>\n",
       "      <td>77406814453032</td>\n",
       "      <td>24710841</td>\n",
       "      <td>e_wallet_payments</td>\n",
       "      <td>78890</td>\n",
       "      <td>cat_2</td>\n",
       "      <td>IND_INR</td>\n",
       "      <td>other_pcs</td>\n",
       "      <td>100.000</td>\n",
       "      <td>2017-01-11 09:25:33+00:00</td>\n",
       "      <td>2</td>\n",
       "      <td>0</td>\n",
       "    </tr>\n",
       "    <tr>\n",
       "      <th>2</th>\n",
       "      <td>308929485482801</td>\n",
       "      <td>24265476</td>\n",
       "      <td>e_wallet_payments</td>\n",
       "      <td>78890</td>\n",
       "      <td>cat_2</td>\n",
       "      <td>IND_INR</td>\n",
       "      <td>other_pcs</td>\n",
       "      <td>50.000</td>\n",
       "      <td>2016-12-07 07:58:09+00:00</td>\n",
       "      <td>2</td>\n",
       "      <td>0</td>\n",
       "    </tr>\n",
       "    <tr>\n",
       "      <th>3</th>\n",
       "      <td>665270027747073</td>\n",
       "      <td>10240000</td>\n",
       "      <td>other_debit_cards</td>\n",
       "      <td>102557</td>\n",
       "      <td>cat_3</td>\n",
       "      <td>IND_INR</td>\n",
       "      <td>other_pcs</td>\n",
       "      <td>1000.000</td>\n",
       "      <td>2017-01-11 16:15:44+00:00</td>\n",
       "      <td>2</td>\n",
       "      <td>0</td>\n",
       "    </tr>\n",
       "    <tr>\n",
       "      <th>4</th>\n",
       "      <td>38276160171101</td>\n",
       "      <td>5880625</td>\n",
       "      <td>other_debit_cards</td>\n",
       "      <td>118335</td>\n",
       "      <td>cat_1</td>\n",
       "      <td>IND_INR</td>\n",
       "      <td>other_pcs</td>\n",
       "      <td>200.000</td>\n",
       "      <td>2016-11-16 17:04:42+00:00</td>\n",
       "      <td>2</td>\n",
       "      <td>0</td>\n",
       "    </tr>\n",
       "  </tbody>\n",
       "</table>\n",
       "</div>"
      ],
      "text/plain": [
       "   transaction_number   user_id          payment_method  partner_id  \\\n",
       "0        144703125000  17539344  sbi_atm_cum_debit_card       47334   \n",
       "1      77406814453032  24710841       e_wallet_payments       78890   \n",
       "2     308929485482801  24265476       e_wallet_payments       78890   \n",
       "3     665270027747073  10240000       other_debit_cards      102557   \n",
       "4      38276160171101   5880625       other_debit_cards      118335   \n",
       "\n",
       "  partner_category  country      device_type  money_transacted  \\\n",
       "0            cat_1  IND_INR  android_devices            -5.000   \n",
       "1            cat_2  IND_INR        other_pcs           100.000   \n",
       "2            cat_2  IND_INR        other_pcs            50.000   \n",
       "3            cat_3  IND_INR        other_pcs          1000.000   \n",
       "4            cat_1  IND_INR        other_pcs           200.000   \n",
       "\n",
       "      transaction_initiation  partner_pricing_category  is_fraud  \n",
       "0  2016-11-15 19:16:12+00:00                         2         0  \n",
       "1  2017-01-11 09:25:33+00:00                         2         0  \n",
       "2  2016-12-07 07:58:09+00:00                         2         0  \n",
       "3  2017-01-11 16:15:44+00:00                         2         0  \n",
       "4  2016-11-16 17:04:42+00:00                         2         0  "
      ]
     },
     "execution_count": 3,
     "metadata": {},
     "output_type": "execute_result"
    }
   ],
   "source": [
    "train = pd.read_csv('C:\\\\Users\\\\shashidhar\\\\Mith_sept12_shashidhar\\\\train_data-1599717478076.csv',na_values=[\" \",\"na\",\"NA\"])\n",
    "\n",
    "test = pd.read_csv('C:\\\\Users\\\\shashidhar\\\\Mith_sept12_shashidhar\\\\test_data-1599717650029.csv',na_values=[\" \",\"na\",\"NA\"])\n",
    "\n",
    "print(train.shape)\n",
    "print(test.shape)\n",
    "\n",
    "train.head()"
   ]
  },
  {
   "cell_type": "code",
   "execution_count": 4,
   "metadata": {},
   "outputs": [
    {
     "data": {
      "text/html": [
       "<div>\n",
       "<style scoped>\n",
       "    .dataframe tbody tr th:only-of-type {\n",
       "        vertical-align: middle;\n",
       "    }\n",
       "\n",
       "    .dataframe tbody tr th {\n",
       "        vertical-align: top;\n",
       "    }\n",
       "\n",
       "    .dataframe thead th {\n",
       "        text-align: right;\n",
       "    }\n",
       "</style>\n",
       "<table border=\"1\" class=\"dataframe\">\n",
       "  <thead>\n",
       "    <tr style=\"text-align: right;\">\n",
       "      <th></th>\n",
       "      <th>transaction_number</th>\n",
       "      <th>user_id</th>\n",
       "      <th>payment_method</th>\n",
       "      <th>partner_id</th>\n",
       "      <th>partner_category</th>\n",
       "      <th>country</th>\n",
       "      <th>device_type</th>\n",
       "      <th>money_transacted</th>\n",
       "      <th>transaction_initiation</th>\n",
       "      <th>partner_pricing_category</th>\n",
       "    </tr>\n",
       "  </thead>\n",
       "  <tbody>\n",
       "    <tr>\n",
       "      <th>0</th>\n",
       "      <td>857050141038272</td>\n",
       "      <td>3802500</td>\n",
       "      <td>visa_master_debit_cards</td>\n",
       "      <td>118335</td>\n",
       "      <td>cat_1</td>\n",
       "      <td>IND_INR</td>\n",
       "      <td>other_pcs</td>\n",
       "      <td>200.000</td>\n",
       "      <td>2016-12-28 14:44:37+00:00</td>\n",
       "      <td>2</td>\n",
       "    </tr>\n",
       "    <tr>\n",
       "      <th>1</th>\n",
       "      <td>4400462872603</td>\n",
       "      <td>200704</td>\n",
       "      <td>e_wallet_payments</td>\n",
       "      <td>23667</td>\n",
       "      <td>cat_2</td>\n",
       "      <td>IND_INR</td>\n",
       "      <td>other_pcs</td>\n",
       "      <td>20.000</td>\n",
       "      <td>2016-12-14 17:49:48+00:00</td>\n",
       "      <td>2</td>\n",
       "    </tr>\n",
       "    <tr>\n",
       "      <th>2</th>\n",
       "      <td>1207915598569499</td>\n",
       "      <td>25150225</td>\n",
       "      <td>sbi_atm_cum_debit_card</td>\n",
       "      <td>47334</td>\n",
       "      <td>cat_1</td>\n",
       "      <td>IND_INR</td>\n",
       "      <td>android_devices</td>\n",
       "      <td>-100.000</td>\n",
       "      <td>2017-01-21 10:18:11+00:00</td>\n",
       "      <td>2</td>\n",
       "    </tr>\n",
       "    <tr>\n",
       "      <th>3</th>\n",
       "      <td>2009725616777536</td>\n",
       "      <td>21827584</td>\n",
       "      <td>visa_master_credit_cards</td>\n",
       "      <td>78890</td>\n",
       "      <td>cat_2</td>\n",
       "      <td>IND_INR</td>\n",
       "      <td>other_pcs</td>\n",
       "      <td>200.000</td>\n",
       "      <td>2017-01-16 13:25:10+00:00</td>\n",
       "      <td>1</td>\n",
       "    </tr>\n",
       "    <tr>\n",
       "      <th>4</th>\n",
       "      <td>2319205210274863</td>\n",
       "      <td>576081</td>\n",
       "      <td>e_wallet_payments</td>\n",
       "      <td>23667</td>\n",
       "      <td>cat_2</td>\n",
       "      <td>IND_INR</td>\n",
       "      <td>other_pcs</td>\n",
       "      <td>100.000</td>\n",
       "      <td>2017-02-09 12:47:28+00:00</td>\n",
       "      <td>2</td>\n",
       "    </tr>\n",
       "  </tbody>\n",
       "</table>\n",
       "</div>"
      ],
      "text/plain": [
       "   transaction_number   user_id            payment_method  partner_id  \\\n",
       "0     857050141038272   3802500   visa_master_debit_cards      118335   \n",
       "1       4400462872603    200704         e_wallet_payments       23667   \n",
       "2    1207915598569499  25150225    sbi_atm_cum_debit_card       47334   \n",
       "3    2009725616777536  21827584  visa_master_credit_cards       78890   \n",
       "4    2319205210274863    576081         e_wallet_payments       23667   \n",
       "\n",
       "  partner_category  country      device_type  money_transacted  \\\n",
       "0            cat_1  IND_INR        other_pcs           200.000   \n",
       "1            cat_2  IND_INR        other_pcs            20.000   \n",
       "2            cat_1  IND_INR  android_devices          -100.000   \n",
       "3            cat_2  IND_INR        other_pcs           200.000   \n",
       "4            cat_2  IND_INR        other_pcs           100.000   \n",
       "\n",
       "      transaction_initiation  partner_pricing_category  \n",
       "0  2016-12-28 14:44:37+00:00                         2  \n",
       "1  2016-12-14 17:49:48+00:00                         2  \n",
       "2  2017-01-21 10:18:11+00:00                         2  \n",
       "3  2017-01-16 13:25:10+00:00                         1  \n",
       "4  2017-02-09 12:47:28+00:00                         2  "
      ]
     },
     "execution_count": 4,
     "metadata": {},
     "output_type": "execute_result"
    }
   ],
   "source": [
    "test.head()"
   ]
  },
  {
   "cell_type": "markdown",
   "metadata": {},
   "source": [
    "# Exploring Data and initial analysis"
   ]
  },
  {
   "cell_type": "code",
   "execution_count": 5,
   "metadata": {},
   "outputs": [
    {
     "data": {
      "text/html": [
       "<div>\n",
       "<style scoped>\n",
       "    .dataframe tbody tr th:only-of-type {\n",
       "        vertical-align: middle;\n",
       "    }\n",
       "\n",
       "    .dataframe tbody tr th {\n",
       "        vertical-align: top;\n",
       "    }\n",
       "\n",
       "    .dataframe thead th {\n",
       "        text-align: right;\n",
       "    }\n",
       "</style>\n",
       "<table border=\"1\" class=\"dataframe\">\n",
       "  <thead>\n",
       "    <tr style=\"text-align: right;\">\n",
       "      <th></th>\n",
       "      <th>transaction_number</th>\n",
       "      <th>user_id</th>\n",
       "      <th>payment_method</th>\n",
       "      <th>partner_id</th>\n",
       "      <th>partner_category</th>\n",
       "      <th>country</th>\n",
       "      <th>device_type</th>\n",
       "      <th>money_transacted</th>\n",
       "      <th>transaction_initiation</th>\n",
       "      <th>partner_pricing_category</th>\n",
       "      <th>is_fraud</th>\n",
       "    </tr>\n",
       "  </thead>\n",
       "  <tbody>\n",
       "    <tr>\n",
       "      <th>count</th>\n",
       "      <td>76529.000</td>\n",
       "      <td>76529.000</td>\n",
       "      <td>76529</td>\n",
       "      <td>76529.000</td>\n",
       "      <td>76529</td>\n",
       "      <td>76529</td>\n",
       "      <td>76529</td>\n",
       "      <td>76529.000</td>\n",
       "      <td>76529</td>\n",
       "      <td>76529.000</td>\n",
       "      <td>76529.000</td>\n",
       "    </tr>\n",
       "    <tr>\n",
       "      <th>unique</th>\n",
       "      <td>nan</td>\n",
       "      <td>nan</td>\n",
       "      <td>6</td>\n",
       "      <td>nan</td>\n",
       "      <td>9</td>\n",
       "      <td>1</td>\n",
       "      <td>4</td>\n",
       "      <td>nan</td>\n",
       "      <td>75811</td>\n",
       "      <td>nan</td>\n",
       "      <td>nan</td>\n",
       "    </tr>\n",
       "    <tr>\n",
       "      <th>top</th>\n",
       "      <td>nan</td>\n",
       "      <td>nan</td>\n",
       "      <td>sbi_atm_cum_debit_card</td>\n",
       "      <td>nan</td>\n",
       "      <td>cat_1</td>\n",
       "      <td>IND_INR</td>\n",
       "      <td>other_pcs</td>\n",
       "      <td>nan</td>\n",
       "      <td>2016-12-24 16:30:13+00:00</td>\n",
       "      <td>nan</td>\n",
       "      <td>nan</td>\n",
       "    </tr>\n",
       "    <tr>\n",
       "      <th>freq</th>\n",
       "      <td>nan</td>\n",
       "      <td>nan</td>\n",
       "      <td>30538</td>\n",
       "      <td>nan</td>\n",
       "      <td>36306</td>\n",
       "      <td>76529</td>\n",
       "      <td>45560</td>\n",
       "      <td>nan</td>\n",
       "      <td>12</td>\n",
       "      <td>nan</td>\n",
       "      <td>nan</td>\n",
       "    </tr>\n",
       "    <tr>\n",
       "      <th>mean</th>\n",
       "      <td>694019979612230.750</td>\n",
       "      <td>12474830.142</td>\n",
       "      <td>NaN</td>\n",
       "      <td>58497.189</td>\n",
       "      <td>NaN</td>\n",
       "      <td>NaN</td>\n",
       "      <td>NaN</td>\n",
       "      <td>132.724</td>\n",
       "      <td>NaN</td>\n",
       "      <td>2.256</td>\n",
       "      <td>0.002</td>\n",
       "    </tr>\n",
       "    <tr>\n",
       "      <th>std</th>\n",
       "      <td>786788520201862.000</td>\n",
       "      <td>12058784.190</td>\n",
       "      <td>NaN</td>\n",
       "      <td>36740.217</td>\n",
       "      <td>NaN</td>\n",
       "      <td>NaN</td>\n",
       "      <td>NaN</td>\n",
       "      <td>2350.111</td>\n",
       "      <td>NaN</td>\n",
       "      <td>0.732</td>\n",
       "      <td>0.045</td>\n",
       "    </tr>\n",
       "    <tr>\n",
       "      <th>min</th>\n",
       "      <td>8.000</td>\n",
       "      <td>1.000</td>\n",
       "      <td>NaN</td>\n",
       "      <td>7889.000</td>\n",
       "      <td>NaN</td>\n",
       "      <td>NaN</td>\n",
       "      <td>NaN</td>\n",
       "      <td>-20000.000</td>\n",
       "      <td>NaN</td>\n",
       "      <td>0.000</td>\n",
       "      <td>0.000</td>\n",
       "    </tr>\n",
       "    <tr>\n",
       "      <th>25%</th>\n",
       "      <td>43878656207511.000</td>\n",
       "      <td>3515625.000</td>\n",
       "      <td>NaN</td>\n",
       "      <td>23667.000</td>\n",
       "      <td>NaN</td>\n",
       "      <td>NaN</td>\n",
       "      <td>NaN</td>\n",
       "      <td>-1.000</td>\n",
       "      <td>NaN</td>\n",
       "      <td>2.000</td>\n",
       "      <td>0.000</td>\n",
       "    </tr>\n",
       "    <tr>\n",
       "      <th>50%</th>\n",
       "      <td>345254019471577.000</td>\n",
       "      <td>9753129.000</td>\n",
       "      <td>NaN</td>\n",
       "      <td>47334.000</td>\n",
       "      <td>NaN</td>\n",
       "      <td>NaN</td>\n",
       "      <td>NaN</td>\n",
       "      <td>20.000</td>\n",
       "      <td>NaN</td>\n",
       "      <td>2.000</td>\n",
       "      <td>0.000</td>\n",
       "    </tr>\n",
       "    <tr>\n",
       "      <th>75%</th>\n",
       "      <td>1173440179290176.000</td>\n",
       "      <td>17884441.000</td>\n",
       "      <td>NaN</td>\n",
       "      <td>78890.000</td>\n",
       "      <td>NaN</td>\n",
       "      <td>NaN</td>\n",
       "      <td>NaN</td>\n",
       "      <td>52.000</td>\n",
       "      <td>NaN</td>\n",
       "      <td>2.000</td>\n",
       "      <td>0.000</td>\n",
       "    </tr>\n",
       "    <tr>\n",
       "      <th>max</th>\n",
       "      <td>2784237895441241.000</td>\n",
       "      <td>55920484.000</td>\n",
       "      <td>NaN</td>\n",
       "      <td>213003.000</td>\n",
       "      <td>NaN</td>\n",
       "      <td>NaN</td>\n",
       "      <td>NaN</td>\n",
       "      <td>197217.760</td>\n",
       "      <td>NaN</td>\n",
       "      <td>4.000</td>\n",
       "      <td>1.000</td>\n",
       "    </tr>\n",
       "  </tbody>\n",
       "</table>\n",
       "</div>"
      ],
      "text/plain": [
       "         transaction_number      user_id          payment_method  partner_id  \\\n",
       "count             76529.000    76529.000                   76529   76529.000   \n",
       "unique                  nan          nan                       6         nan   \n",
       "top                     nan          nan  sbi_atm_cum_debit_card         nan   \n",
       "freq                    nan          nan                   30538         nan   \n",
       "mean    694019979612230.750 12474830.142                     NaN   58497.189   \n",
       "std     786788520201862.000 12058784.190                     NaN   36740.217   \n",
       "min                   8.000        1.000                     NaN    7889.000   \n",
       "25%      43878656207511.000  3515625.000                     NaN   23667.000   \n",
       "50%     345254019471577.000  9753129.000                     NaN   47334.000   \n",
       "75%    1173440179290176.000 17884441.000                     NaN   78890.000   \n",
       "max    2784237895441241.000 55920484.000                     NaN  213003.000   \n",
       "\n",
       "       partner_category  country device_type  money_transacted  \\\n",
       "count             76529    76529       76529         76529.000   \n",
       "unique                9        1           4               nan   \n",
       "top               cat_1  IND_INR   other_pcs               nan   \n",
       "freq              36306    76529       45560               nan   \n",
       "mean                NaN      NaN         NaN           132.724   \n",
       "std                 NaN      NaN         NaN          2350.111   \n",
       "min                 NaN      NaN         NaN        -20000.000   \n",
       "25%                 NaN      NaN         NaN            -1.000   \n",
       "50%                 NaN      NaN         NaN            20.000   \n",
       "75%                 NaN      NaN         NaN            52.000   \n",
       "max                 NaN      NaN         NaN        197217.760   \n",
       "\n",
       "           transaction_initiation  partner_pricing_category  is_fraud  \n",
       "count                       76529                 76529.000 76529.000  \n",
       "unique                      75811                       nan       nan  \n",
       "top     2016-12-24 16:30:13+00:00                       nan       nan  \n",
       "freq                           12                       nan       nan  \n",
       "mean                          NaN                     2.256     0.002  \n",
       "std                           NaN                     0.732     0.045  \n",
       "min                           NaN                     0.000     0.000  \n",
       "25%                           NaN                     2.000     0.000  \n",
       "50%                           NaN                     2.000     0.000  \n",
       "75%                           NaN                     2.000     0.000  \n",
       "max                           NaN                     4.000     1.000  "
      ]
     },
     "execution_count": 5,
     "metadata": {},
     "output_type": "execute_result"
    }
   ],
   "source": [
    "# to know the distribution of numerical columns\n",
    "train.describe(include='all')"
   ]
  },
  {
   "cell_type": "code",
   "execution_count": 6,
   "metadata": {},
   "outputs": [
    {
     "name": "stdout",
     "output_type": "stream",
     "text": [
      "train dimensions: (76529, 11)\n",
      "test dimensions: (19133, 10)\n"
     ]
    }
   ],
   "source": [
    "#let us see the dimensions of train and test \n",
    "print(\"train dimensions:\", train.shape)\n",
    "print(\"test dimensions:\", test.shape)"
   ]
  },
  {
   "cell_type": "code",
   "execution_count": 7,
   "metadata": {},
   "outputs": [
    {
     "data": {
      "text/plain": [
       "transaction_number            int64\n",
       "user_id                       int64\n",
       "payment_method               object\n",
       "partner_id                    int64\n",
       "partner_category             object\n",
       "country                      object\n",
       "device_type                  object\n",
       "money_transacted            float64\n",
       "transaction_initiation       object\n",
       "partner_pricing_category      int64\n",
       "is_fraud                      int64\n",
       "dtype: object"
      ]
     },
     "execution_count": 7,
     "metadata": {},
     "output_type": "execute_result"
    }
   ],
   "source": [
    "#let us see data types present in train\n",
    "train.dtypes"
   ]
  },
  {
   "cell_type": "code",
   "execution_count": 8,
   "metadata": {},
   "outputs": [
    {
     "data": {
      "text/plain": [
       "transaction_number          76529\n",
       "user_id                      3594\n",
       "payment_method                  6\n",
       "partner_id                     23\n",
       "partner_category                9\n",
       "country                         1\n",
       "device_type                     4\n",
       "money_transacted             1454\n",
       "transaction_initiation      75811\n",
       "partner_pricing_category        4\n",
       "is_fraud                        2\n",
       "dtype: int64"
      ]
     },
     "execution_count": 8,
     "metadata": {},
     "output_type": "execute_result"
    }
   ],
   "source": [
    "#let us see unique levels in train\n",
    "train.nunique()"
   ]
  },
  {
   "cell_type": "code",
   "execution_count": 9,
   "metadata": {},
   "outputs": [
    {
     "data": {
      "text/plain": [
       "transaction_number          19133\n",
       "user_id                      2617\n",
       "payment_method                  6\n",
       "partner_id                     20\n",
       "partner_category                8\n",
       "country                         1\n",
       "device_type                     4\n",
       "money_transacted              695\n",
       "transaction_initiation      19090\n",
       "partner_pricing_category        4\n",
       "dtype: int64"
      ]
     },
     "execution_count": 9,
     "metadata": {},
     "output_type": "execute_result"
    }
   ],
   "source": [
    "#let us unique levels in test\n",
    "test.nunique()"
   ]
  },
  {
   "cell_type": "code",
   "execution_count": 10,
   "metadata": {},
   "outputs": [],
   "source": [
    "#save transaction number\n",
    "transaction_number_train = train['transaction_number']\n",
    "transaction_number_test = test['transaction_number']\n",
    "#save user id\n",
    "user_id_train = train[\"user_id\"]\n",
    "user_id_test = test[\"user_id\"]\n",
    "#country column has only one level so we drop it without saving"
   ]
  },
  {
   "cell_type": "code",
   "execution_count": 11,
   "metadata": {},
   "outputs": [],
   "source": [
    "#we can remove unnecessary columns \n",
    "train.drop(['transaction_number','country'],axis =1,inplace=True)\n",
    "test.drop(['transaction_number','country'],axis =1,inplace=True)"
   ]
  },
  {
   "cell_type": "markdown",
   "metadata": {},
   "source": [
    "# Feature Extraction"
   ]
  },
  {
   "cell_type": "code",
   "execution_count": 12,
   "metadata": {},
   "outputs": [],
   "source": [
    "#Date=pd.to_datetime(train['transaction_initiation']).dt.date\n",
    "#pd.DatetimeIndex(Date).year\n",
    "#print(type(Date))"
   ]
  },
  {
   "cell_type": "code",
   "execution_count": 13,
   "metadata": {},
   "outputs": [],
   "source": [
    "#<class 'pandas.core.indexes.numeric.Int64Index'>"
   ]
  },
  {
   "cell_type": "code",
   "execution_count": 14,
   "metadata": {},
   "outputs": [],
   "source": [
    "#Feature extraction\n",
    "Date=pd.to_datetime(train['transaction_initiation']).dt.date\n",
    "#train['Time']=pd.to_datetime(train['transaction_initiation']).dt.time\n",
    "train['year'] = pd.DatetimeIndex(Date).year\n",
    "train['month'] = pd.DatetimeIndex(Date).month\n",
    "train['day'] = pd.DatetimeIndex(Date).day\n",
    "train['hour']=pd.to_datetime(train['transaction_initiation']).dt.hour\n",
    "#changing them to category type\n",
    "#train['Date']= train['Date'].astype('category')\n",
    "train['month']= train['month'].astype('category')\n",
    "#train['Time']= train['Time'].astype('category')\n",
    "train['year']= train['year'].astype('category')\n",
    "train['day']= train['day'].astype('category')\n"
   ]
  },
  {
   "cell_type": "code",
   "execution_count": 15,
   "metadata": {},
   "outputs": [],
   "source": [
    "#Feature extraction\n",
    "test_Date=pd.to_datetime(test['transaction_initiation']).dt.date\n",
    "#train['Time']=pd.to_datetime(train['transaction_initiation']).dt.time\n",
    "test['year'] = pd.DatetimeIndex(test_Date).year\n",
    "test['month'] = pd.DatetimeIndex(test_Date).month\n",
    "test['day'] = pd.DatetimeIndex(test_Date).day\n",
    "test['hour']=pd.to_datetime(test['transaction_initiation']).dt.hour\n",
    "#changing them to category type\n",
    "#train['Date']= train['Date'].astype('category')\n",
    "test['month']= test['month'].astype('category')\n",
    "test['year']= test['year'].astype('category')\n",
    "test['day']= test['day'].astype('category')\n"
   ]
  },
  {
   "cell_type": "code",
   "execution_count": 16,
   "metadata": {},
   "outputs": [],
   "source": [
    "train['timebins'] = pd.cut(train['hour'], \n",
    "                    bins=[0,6,12,18,24], \n",
    "                    include_lowest=True, \n",
    "                    labels=['0-6hrs','6-12hrs','12-18hrs','18-24hrs'])"
   ]
  },
  {
   "cell_type": "code",
   "execution_count": 17,
   "metadata": {},
   "outputs": [
    {
     "data": {
      "text/plain": [
       "0        18-24hrs\n",
       "1         6-12hrs\n",
       "2         6-12hrs\n",
       "3        12-18hrs\n",
       "4        12-18hrs\n",
       "           ...   \n",
       "76524    12-18hrs\n",
       "76525     6-12hrs\n",
       "76526    18-24hrs\n",
       "76527    12-18hrs\n",
       "76528    18-24hrs\n",
       "Name: timebins, Length: 76529, dtype: category\n",
       "Categories (4, object): ['0-6hrs' < '6-12hrs' < '12-18hrs' < '18-24hrs']"
      ]
     },
     "execution_count": 17,
     "metadata": {},
     "output_type": "execute_result"
    }
   ],
   "source": [
    "train.timebins"
   ]
  },
  {
   "cell_type": "code",
   "execution_count": 18,
   "metadata": {},
   "outputs": [
    {
     "data": {
      "text/plain": [
       "0        12-18hrs\n",
       "1        12-18hrs\n",
       "2         6-12hrs\n",
       "3        12-18hrs\n",
       "4         6-12hrs\n",
       "           ...   \n",
       "19128    12-18hrs\n",
       "19129    18-24hrs\n",
       "19130      0-6hrs\n",
       "19131    12-18hrs\n",
       "19132    18-24hrs\n",
       "Name: timebins, Length: 19133, dtype: category\n",
       "Categories (4, object): ['0-6hrs' < '6-12hrs' < '12-18hrs' < '18-24hrs']"
      ]
     },
     "execution_count": 18,
     "metadata": {},
     "output_type": "execute_result"
    }
   ],
   "source": [
    "test['timebins'] = pd.cut(test['hour'], \n",
    "                    bins=[0,6,12,18,24], \n",
    "                    include_lowest=True, \n",
    "                    labels=['0-6hrs','6-12hrs','12-18hrs','18-24hrs'])\n",
    "test.timebins"
   ]
  },
  {
   "cell_type": "code",
   "execution_count": 19,
   "metadata": {},
   "outputs": [],
   "source": [
    "#train['timebins']= train['timebins'].astype('category')"
   ]
  },
  {
   "cell_type": "code",
   "execution_count": 20,
   "metadata": {},
   "outputs": [],
   "source": [
    "#  rng = pd.date_range('2017-04-03', periods=30, freq='H').strftime('%H:%M:%S')\n",
    "#  df = pd.DataFrame({'Time': rng}) \n",
    "\n",
    "# hours = pd.to_datetime(df['Time'], format='%H:%M:%S').dt.hour\n",
    "\n",
    "# df['cats'] = pd.cut(hours, \n",
    "#                     bins=[0,6,12,18,24], \n",
    "#                     include_lowest=True, \n",
    "#                     labels=['cat1','cat2','cat3','cat4'])"
   ]
  },
  {
   "cell_type": "code",
   "execution_count": 21,
   "metadata": {},
   "outputs": [],
   "source": [
    "train.drop(['transaction_initiation','hour'],axis=1,inplace=True)\n",
    "test.drop(['transaction_initiation','hour'],axis=1,inplace=True)\n"
   ]
  },
  {
   "cell_type": "code",
   "execution_count": 22,
   "metadata": {},
   "outputs": [
    {
     "data": {
      "text/plain": [
       "<bound method NDFrame.head of         user_id           payment_method  partner_id partner_category  \\\n",
       "0      17539344   sbi_atm_cum_debit_card       47334            cat_1   \n",
       "1      24710841        e_wallet_payments       78890            cat_2   \n",
       "2      24265476        e_wallet_payments       78890            cat_2   \n",
       "3      10240000        other_debit_cards      102557            cat_3   \n",
       "4       5880625        other_debit_cards      118335            cat_1   \n",
       "...         ...                      ...         ...              ...   \n",
       "76524  19686969   sbi_atm_cum_debit_card       47334            cat_1   \n",
       "76525  11662225  visa_master_debit_cards      118335            cat_1   \n",
       "76526    374544   sbi_atm_cum_debit_card       47334            cat_1   \n",
       "76527   1687401   sbi_atm_cum_debit_card       47334            cat_1   \n",
       "76528   6754801   sbi_atm_cum_debit_card       47334            cat_1   \n",
       "\n",
       "           device_type  money_transacted  partner_pricing_category  is_fraud  \\\n",
       "0      android_devices            -5.000                         2         0   \n",
       "1            other_pcs           100.000                         2         0   \n",
       "2            other_pcs            50.000                         2         0   \n",
       "3            other_pcs          1000.000                         2         0   \n",
       "4            other_pcs           200.000                         2         0   \n",
       "...                ...               ...                       ...       ...   \n",
       "76524  android_devices          -100.000                         2         0   \n",
       "76525        other_pcs           200.000                         2         0   \n",
       "76526  android_devices            -3.500                         2         0   \n",
       "76527  android_devices           -20.000                         2         0   \n",
       "76528  android_devices          -100.000                         2         0   \n",
       "\n",
       "       year month day  timebins  \n",
       "0      2016    11  15  18-24hrs  \n",
       "1      2017     1  11   6-12hrs  \n",
       "2      2016    12   7   6-12hrs  \n",
       "3      2017     1  11  12-18hrs  \n",
       "4      2016    11  16  12-18hrs  \n",
       "...     ...   ...  ..       ...  \n",
       "76524  2016    11  30  12-18hrs  \n",
       "76525  2017     1   8   6-12hrs  \n",
       "76526  2016    12  26  18-24hrs  \n",
       "76527  2016    12  11  12-18hrs  \n",
       "76528  2017     1  11  18-24hrs  \n",
       "\n",
       "[76529 rows x 12 columns]>"
      ]
     },
     "execution_count": 22,
     "metadata": {},
     "output_type": "execute_result"
    }
   ],
   "source": [
    "train.head"
   ]
  },
  {
   "cell_type": "code",
   "execution_count": 23,
   "metadata": {},
   "outputs": [
    {
     "name": "stdout",
     "output_type": "stream",
     "text": [
      "train dimensions: (76529, 12)\n",
      "test dimensions: (19133, 11)\n"
     ]
    }
   ],
   "source": [
    "#let us see the dimensions of train and test after dropping and feature extraction\n",
    "print(\"train dimensions:\", train.shape)\n",
    "print(\"test dimensions:\", test.shape)"
   ]
  },
  {
   "cell_type": "code",
   "execution_count": 24,
   "metadata": {},
   "outputs": [
    {
     "data": {
      "text/plain": [
       "user_id                     3594\n",
       "payment_method                 6\n",
       "partner_id                    23\n",
       "partner_category               9\n",
       "device_type                    4\n",
       "money_transacted            1454\n",
       "partner_pricing_category       4\n",
       "is_fraud                       2\n",
       "year                           2\n",
       "month                          4\n",
       "day                           31\n",
       "timebins                       4\n",
       "dtype: int64"
      ]
     },
     "execution_count": 24,
     "metadata": {},
     "output_type": "execute_result"
    }
   ],
   "source": [
    "#let us see unique levels in train\n",
    "train.nunique()"
   ]
  },
  {
   "cell_type": "markdown",
   "metadata": {},
   "source": [
    "# Data Type Conversion"
   ]
  },
  {
   "cell_type": "code",
   "execution_count": 25,
   "metadata": {},
   "outputs": [],
   "source": [
    "# let us convert columns which are of categorical in nature to the category type\n",
    "columns_to_convert = ['partner_id','partner_pricing_category','is_fraud','user_id']\n",
    "train[columns_to_convert] = train[columns_to_convert].astype('category')"
   ]
  },
  {
   "cell_type": "code",
   "execution_count": 26,
   "metadata": {},
   "outputs": [
    {
     "data": {
      "text/plain": [
       "['user_id',\n",
       " 'payment_method',\n",
       " 'partner_id',\n",
       " 'partner_category',\n",
       " 'device_type',\n",
       " 'partner_pricing_category',\n",
       " 'year',\n",
       " 'month',\n",
       " 'day',\n",
       " 'timebins']"
      ]
     },
     "execution_count": 26,
     "metadata": {},
     "output_type": "execute_result"
    }
   ],
   "source": [
    "#  creating categorical columns list\n",
    "categorical_columns = train.select_dtypes(include =['object','category']).columns.tolist()\n",
    "\n",
    "#let us remove the target is_fraud column from catergorical columns list\n",
    "categorical_columns.remove('is_fraud')\n",
    "categorical_columns"
   ]
  },
  {
   "cell_type": "code",
   "execution_count": 27,
   "metadata": {},
   "outputs": [
    {
     "data": {
      "text/plain": [
       "['money_transacted']"
      ]
     },
     "execution_count": 27,
     "metadata": {},
     "output_type": "execute_result"
    }
   ],
   "source": [
    "# creating numerical columns list\n",
    "numerical_columns = train.select_dtypes(exclude =['object','category']).columns.tolist()\n",
    "numerical_columns"
   ]
  },
  {
   "cell_type": "code",
   "execution_count": 28,
   "metadata": {},
   "outputs": [
    {
     "name": "stdout",
     "output_type": "stream",
     "text": [
      "total number of categorical columns is: 10\n",
      "total number of numerical columns is: 1\n"
     ]
    }
   ],
   "source": [
    "print(\"total number of categorical columns is:\",len(categorical_columns))\n",
    "print(\"total number of numerical columns is:\",len(numerical_columns))"
   ]
  },
  {
   "cell_type": "markdown",
   "metadata": {},
   "source": [
    "# Null Counts"
   ]
  },
  {
   "cell_type": "code",
   "execution_count": 29,
   "metadata": {},
   "outputs": [],
   "source": [
    "# Function to count the null values and their percentages in each column.\n",
    "def fn_nulls_count(df):\n",
    "    # Nulls counts in each column.\n",
    "    nulls_counts = df.isnull().sum()\n",
    "    # Convert above series into dataframe.\n",
    "    nulls_counts_df = nulls_counts.to_frame(name = 'nulls_count')\n",
    "    # Add a new column - to get the null counts percentage to the total rows.\n",
    "    nulls_counts_df['nulls_percentage'] = round(100 * nulls_counts_df['nulls_count']/df.shape[0], 2)\n",
    "    # Return the null counts dataframe.\n",
    "    return nulls_counts_df"
   ]
  },
  {
   "cell_type": "code",
   "execution_count": 30,
   "metadata": {},
   "outputs": [
    {
     "data": {
      "text/html": [
       "<div>\n",
       "<style scoped>\n",
       "    .dataframe tbody tr th:only-of-type {\n",
       "        vertical-align: middle;\n",
       "    }\n",
       "\n",
       "    .dataframe tbody tr th {\n",
       "        vertical-align: top;\n",
       "    }\n",
       "\n",
       "    .dataframe thead th {\n",
       "        text-align: right;\n",
       "    }\n",
       "</style>\n",
       "<table border=\"1\" class=\"dataframe\">\n",
       "  <thead>\n",
       "    <tr style=\"text-align: right;\">\n",
       "      <th></th>\n",
       "      <th>nulls_count</th>\n",
       "      <th>nulls_percentage</th>\n",
       "    </tr>\n",
       "  </thead>\n",
       "  <tbody>\n",
       "    <tr>\n",
       "      <th>user_id</th>\n",
       "      <td>0</td>\n",
       "      <td>0.000</td>\n",
       "    </tr>\n",
       "    <tr>\n",
       "      <th>payment_method</th>\n",
       "      <td>0</td>\n",
       "      <td>0.000</td>\n",
       "    </tr>\n",
       "    <tr>\n",
       "      <th>partner_id</th>\n",
       "      <td>0</td>\n",
       "      <td>0.000</td>\n",
       "    </tr>\n",
       "    <tr>\n",
       "      <th>partner_category</th>\n",
       "      <td>0</td>\n",
       "      <td>0.000</td>\n",
       "    </tr>\n",
       "    <tr>\n",
       "      <th>device_type</th>\n",
       "      <td>0</td>\n",
       "      <td>0.000</td>\n",
       "    </tr>\n",
       "    <tr>\n",
       "      <th>money_transacted</th>\n",
       "      <td>0</td>\n",
       "      <td>0.000</td>\n",
       "    </tr>\n",
       "    <tr>\n",
       "      <th>partner_pricing_category</th>\n",
       "      <td>0</td>\n",
       "      <td>0.000</td>\n",
       "    </tr>\n",
       "    <tr>\n",
       "      <th>is_fraud</th>\n",
       "      <td>0</td>\n",
       "      <td>0.000</td>\n",
       "    </tr>\n",
       "    <tr>\n",
       "      <th>year</th>\n",
       "      <td>0</td>\n",
       "      <td>0.000</td>\n",
       "    </tr>\n",
       "    <tr>\n",
       "      <th>month</th>\n",
       "      <td>0</td>\n",
       "      <td>0.000</td>\n",
       "    </tr>\n",
       "    <tr>\n",
       "      <th>day</th>\n",
       "      <td>0</td>\n",
       "      <td>0.000</td>\n",
       "    </tr>\n",
       "    <tr>\n",
       "      <th>timebins</th>\n",
       "      <td>0</td>\n",
       "      <td>0.000</td>\n",
       "    </tr>\n",
       "  </tbody>\n",
       "</table>\n",
       "</div>"
      ],
      "text/plain": [
       "                          nulls_count  nulls_percentage\n",
       "user_id                             0             0.000\n",
       "payment_method                      0             0.000\n",
       "partner_id                          0             0.000\n",
       "partner_category                    0             0.000\n",
       "device_type                         0             0.000\n",
       "money_transacted                    0             0.000\n",
       "partner_pricing_category            0             0.000\n",
       "is_fraud                            0             0.000\n",
       "year                                0             0.000\n",
       "month                               0             0.000\n",
       "day                                 0             0.000\n",
       "timebins                            0             0.000"
      ]
     },
     "execution_count": 30,
     "metadata": {},
     "output_type": "execute_result"
    }
   ],
   "source": [
    "# Nulls in train data.\n",
    "train_nulls = fn_nulls_count(train)\n",
    "train_nulls"
   ]
  },
  {
   "cell_type": "code",
   "execution_count": 31,
   "metadata": {},
   "outputs": [
    {
     "data": {
      "text/html": [
       "<div>\n",
       "<style scoped>\n",
       "    .dataframe tbody tr th:only-of-type {\n",
       "        vertical-align: middle;\n",
       "    }\n",
       "\n",
       "    .dataframe tbody tr th {\n",
       "        vertical-align: top;\n",
       "    }\n",
       "\n",
       "    .dataframe thead th {\n",
       "        text-align: right;\n",
       "    }\n",
       "</style>\n",
       "<table border=\"1\" class=\"dataframe\">\n",
       "  <thead>\n",
       "    <tr style=\"text-align: right;\">\n",
       "      <th></th>\n",
       "      <th>nulls_count</th>\n",
       "      <th>nulls_percentage</th>\n",
       "    </tr>\n",
       "  </thead>\n",
       "  <tbody>\n",
       "    <tr>\n",
       "      <th>user_id</th>\n",
       "      <td>0</td>\n",
       "      <td>0.000</td>\n",
       "    </tr>\n",
       "    <tr>\n",
       "      <th>payment_method</th>\n",
       "      <td>0</td>\n",
       "      <td>0.000</td>\n",
       "    </tr>\n",
       "    <tr>\n",
       "      <th>partner_id</th>\n",
       "      <td>0</td>\n",
       "      <td>0.000</td>\n",
       "    </tr>\n",
       "    <tr>\n",
       "      <th>partner_category</th>\n",
       "      <td>0</td>\n",
       "      <td>0.000</td>\n",
       "    </tr>\n",
       "    <tr>\n",
       "      <th>device_type</th>\n",
       "      <td>0</td>\n",
       "      <td>0.000</td>\n",
       "    </tr>\n",
       "    <tr>\n",
       "      <th>money_transacted</th>\n",
       "      <td>0</td>\n",
       "      <td>0.000</td>\n",
       "    </tr>\n",
       "    <tr>\n",
       "      <th>partner_pricing_category</th>\n",
       "      <td>0</td>\n",
       "      <td>0.000</td>\n",
       "    </tr>\n",
       "    <tr>\n",
       "      <th>is_fraud</th>\n",
       "      <td>0</td>\n",
       "      <td>0.000</td>\n",
       "    </tr>\n",
       "    <tr>\n",
       "      <th>year</th>\n",
       "      <td>0</td>\n",
       "      <td>0.000</td>\n",
       "    </tr>\n",
       "    <tr>\n",
       "      <th>month</th>\n",
       "      <td>0</td>\n",
       "      <td>0.000</td>\n",
       "    </tr>\n",
       "    <tr>\n",
       "      <th>day</th>\n",
       "      <td>0</td>\n",
       "      <td>0.000</td>\n",
       "    </tr>\n",
       "    <tr>\n",
       "      <th>timebins</th>\n",
       "      <td>0</td>\n",
       "      <td>0.000</td>\n",
       "    </tr>\n",
       "  </tbody>\n",
       "</table>\n",
       "</div>"
      ],
      "text/plain": [
       "                          nulls_count  nulls_percentage\n",
       "user_id                             0             0.000\n",
       "payment_method                      0             0.000\n",
       "partner_id                          0             0.000\n",
       "partner_category                    0             0.000\n",
       "device_type                         0             0.000\n",
       "money_transacted                    0             0.000\n",
       "partner_pricing_category            0             0.000\n",
       "is_fraud                            0             0.000\n",
       "year                                0             0.000\n",
       "month                               0             0.000\n",
       "day                                 0             0.000\n",
       "timebins                            0             0.000"
      ]
     },
     "execution_count": 31,
     "metadata": {},
     "output_type": "execute_result"
    }
   ],
   "source": [
    "# Nulls in train data.\n",
    "test_nulls = fn_nulls_count(train)\n",
    "test_nulls"
   ]
  },
  {
   "cell_type": "code",
   "execution_count": 32,
   "metadata": {},
   "outputs": [],
   "source": [
    "#no Null values in train and test datasets"
   ]
  },
  {
   "cell_type": "markdown",
   "metadata": {},
   "source": [
    "# Outlier count"
   ]
  },
  {
   "cell_type": "code",
   "execution_count": 33,
   "metadata": {
    "scrolled": true
   },
   "outputs": [],
   "source": [
    "# function to check for Outliers and replacing with respective whiskers\n",
    "def fn_outliers(df):\n",
    "    num_cols = df.select_dtypes(exclude =['object','category']).columns.tolist()\n",
    "    col = df[num_cols].columns\n",
    "    for i in range(0,df[col].shape[1]):\n",
    "        Q0 = df[col[i]].quantile(0.01)\n",
    "        Q1 = df[col[i]].quantile(0.25)\n",
    "        Q3 = df[col[i]].quantile(0.75)\n",
    "        Q4 = df[col[i]].quantile(1)\n",
    "        IQR = Q3 - Q1\n",
    "        Lower_whisker = Q1 - 1.5 * IQR\n",
    "        Upper_Whisker = Q3 + 1.5 * IQR\n",
    "         \n",
    "    \n",
    "        Outliers_counts = len((df[col[i]][df[col[i]] < Lower_whisker ]) + (df[col[i]][train[col[i]] > Upper_Whisker]))\n",
    "        print(\"Outliers counts in\", col[i], Outliers_counts)\n",
    "    \n",
    "        #df.loc[(df[col[i]] < Lower_whisker),col[i]] = Lower_whisker\n",
    "        #df.loc[(df[col[i]] > Upper_Whisker),col[i]] = Upper_Whisker\n",
    "    \n",
    "    return ''"
   ]
  },
  {
   "cell_type": "code",
   "execution_count": 34,
   "metadata": {},
   "outputs": [
    {
     "name": "stdout",
     "output_type": "stream",
     "text": [
      "Outliers counts in money_transacted 19760\n"
     ]
    },
    {
     "data": {
      "text/plain": [
       "''"
      ]
     },
     "execution_count": 34,
     "metadata": {},
     "output_type": "execute_result"
    }
   ],
   "source": [
    "#let us see if there are any outliers in each column and replace with respective whisker.\n",
    "fn_outliers(train)"
   ]
  },
  {
   "cell_type": "code",
   "execution_count": 35,
   "metadata": {},
   "outputs": [],
   "source": [
    "outliers_money_transacted = 19760"
   ]
  },
  {
   "cell_type": "code",
   "execution_count": 36,
   "metadata": {},
   "outputs": [
    {
     "data": {
      "text/plain": [
       "25.82027728050804"
      ]
     },
     "execution_count": 36,
     "metadata": {},
     "output_type": "execute_result"
    }
   ],
   "source": [
    "#there are too many outliers to remove or replace\n",
    "(outliers_money_transacted/train.shape[0])*100"
   ]
  },
  {
   "cell_type": "code",
   "execution_count": 37,
   "metadata": {},
   "outputs": [],
   "source": [
    "#total 25.8% of transactions are outliers if we consider 1.5 IQR."
   ]
  },
  {
   "cell_type": "code",
   "execution_count": 38,
   "metadata": {},
   "outputs": [],
   "source": [
    "#let us not remove any outliers as they are high value money transactions. \n",
    "#probably they should be the fraud transactions as frauds are done in high money amounts"
   ]
  },
  {
   "cell_type": "markdown",
   "metadata": {},
   "source": [
    "# Data Preparation - Preprocessing pipeline"
   ]
  },
  {
   "cell_type": "code",
   "execution_count": 39,
   "metadata": {},
   "outputs": [],
   "source": [
    "# defining a preprocess pipeline\n",
    "\n",
    "# Preprocessing for numerical data\n",
    "numerical_transformer = Pipeline(steps=[\n",
    "    ('num_imputer', SimpleImputer(strategy='mean')),\n",
    "    ('num_scaler', StandardScaler())\n",
    "])\n",
    "\n",
    "# Preprocessing for categorical data\n",
    "categorical_transformer = Pipeline(steps=[\n",
    "    ('cat_imputer', SimpleImputer(strategy='most_frequent')),\n",
    "    ('cat_onehotencode', OneHotEncoder(handle_unknown='ignore'))\n",
    "])\n",
    "\n",
    "# Bundle preprocessing for numerical and categorical data\n",
    "preprocessor = ColumnTransformer(\n",
    "    transformers=[\n",
    "        ('num_trf', numerical_transformer, numerical_columns),\n",
    "        ('cat_trf', categorical_transformer, categorical_columns)\n",
    "])"
   ]
  },
  {
   "cell_type": "markdown",
   "metadata": {},
   "source": [
    "# Target value distribution.\n",
    "See how the target value is distributed in train."
   ]
  },
  {
   "cell_type": "code",
   "execution_count": 40,
   "metadata": {},
   "outputs": [],
   "source": [
    "# Function to check the train and validation sets target distributions.\n",
    "def fn_target_dist(series):\n",
    "    # Find the counts in each class.\n",
    "    vcdf = series.value_counts()\n",
    "    # Convert above to a dataframe.\n",
    "    vcdf = vcdf.to_frame(name = 'count')\n",
    "    # Add a new column 'percentage' that gives percentage of level counts.\n",
    "    vcdf['count%'] = round(100 * vcdf['count']/len(series), 2)\n",
    "\n",
    "    # Return the target counts dataframe.\n",
    "    return vcdf"
   ]
  },
  {
   "cell_type": "code",
   "execution_count": 41,
   "metadata": {},
   "outputs": [
    {
     "data": {
      "text/html": [
       "<div>\n",
       "<style scoped>\n",
       "    .dataframe tbody tr th:only-of-type {\n",
       "        vertical-align: middle;\n",
       "    }\n",
       "\n",
       "    .dataframe tbody tr th {\n",
       "        vertical-align: top;\n",
       "    }\n",
       "\n",
       "    .dataframe thead th {\n",
       "        text-align: right;\n",
       "    }\n",
       "</style>\n",
       "<table border=\"1\" class=\"dataframe\">\n",
       "  <thead>\n",
       "    <tr style=\"text-align: right;\">\n",
       "      <th></th>\n",
       "      <th>count</th>\n",
       "      <th>count%</th>\n",
       "    </tr>\n",
       "  </thead>\n",
       "  <tbody>\n",
       "    <tr>\n",
       "      <th>0</th>\n",
       "      <td>76375</td>\n",
       "      <td>99.800</td>\n",
       "    </tr>\n",
       "    <tr>\n",
       "      <th>1</th>\n",
       "      <td>154</td>\n",
       "      <td>0.200</td>\n",
       "    </tr>\n",
       "  </tbody>\n",
       "</table>\n",
       "</div>"
      ],
      "text/plain": [
       "   count  count%\n",
       "0  76375  99.800\n",
       "1    154   0.200"
      ]
     },
     "execution_count": 41,
     "metadata": {},
     "output_type": "execute_result"
    }
   ],
   "source": [
    "fn_target_dist(train['is_fraud'])"
   ]
  },
  {
   "cell_type": "code",
   "execution_count": 42,
   "metadata": {},
   "outputs": [
    {
     "data": {
      "image/png": "[encoded data removed]",
      "text/plain": [
       "<Figure size 432x288 with 1 Axes>"
      ]
     },
     "metadata": {
      "needs_background": "light"
     },
     "output_type": "display_data"
    },
    {
     "name": "stdout",
     "output_type": "stream",
     "text": [
      "0    76375\n",
      "1      154\n",
      "Name: is_fraud, dtype: int64\n",
      "Percent of is_fraud transactions in total : 0.2 %\n"
     ]
    }
   ],
   "source": [
    "# Plot Distribution\n",
    "sns.countplot(x='is_fraud',data=train)\n",
    "plt.show()\n",
    "\n",
    "# What are the counts?\n",
    "print(train['is_fraud'].value_counts())\n",
    "\n",
    "# What is the percentage?\n",
    "count_yes = len(train[train['is_fraud'] == 1])\n",
    "count_no = len(train[train['is_fraud'] == 0])\n",
    "\n",
    "percent_success = round((count_yes/(count_yes + count_no))*100, 2)\n",
    "\n",
    "print('Percent of is_fraud transactions in total :', percent_success, \"%\")\n",
    "\n"
   ]
  },
  {
   "cell_type": "code",
   "execution_count": 43,
   "metadata": {},
   "outputs": [],
   "source": [
    "# only 0.2 percent of transactions are fraud. It is a very imbalanced dataset"
   ]
  },
  {
   "cell_type": "markdown",
   "metadata": {},
   "source": [
    "# Visualisations"
   ]
  },
  {
   "cell_type": "markdown",
   "metadata": {},
   "source": [
    "# Device type distribution in total transactions"
   ]
  },
  {
   "cell_type": "code",
   "execution_count": 44,
   "metadata": {},
   "outputs": [
    {
     "data": {
      "text/html": [
       "<div>\n",
       "<style scoped>\n",
       "    .dataframe tbody tr th:only-of-type {\n",
       "        vertical-align: middle;\n",
       "    }\n",
       "\n",
       "    .dataframe tbody tr th {\n",
       "        vertical-align: top;\n",
       "    }\n",
       "\n",
       "    .dataframe thead th {\n",
       "        text-align: right;\n",
       "    }\n",
       "</style>\n",
       "<table border=\"1\" class=\"dataframe\">\n",
       "  <thead>\n",
       "    <tr style=\"text-align: right;\">\n",
       "      <th></th>\n",
       "      <th>device_type</th>\n",
       "    </tr>\n",
       "  </thead>\n",
       "  <tbody>\n",
       "    <tr>\n",
       "      <th>other_pcs</th>\n",
       "      <td>45560</td>\n",
       "    </tr>\n",
       "    <tr>\n",
       "      <th>android_devices</th>\n",
       "      <td>29662</td>\n",
       "    </tr>\n",
       "    <tr>\n",
       "      <th>ios_devices</th>\n",
       "      <td>876</td>\n",
       "    </tr>\n",
       "    <tr>\n",
       "      <th>windows_pcs</th>\n",
       "      <td>431</td>\n",
       "    </tr>\n",
       "  </tbody>\n",
       "</table>\n",
       "</div>"
      ],
      "text/plain": [
       "                 device_type\n",
       "other_pcs              45560\n",
       "android_devices        29662\n",
       "ios_devices              876\n",
       "windows_pcs              431"
      ]
     },
     "execution_count": 44,
     "metadata": {},
     "output_type": "execute_result"
    }
   ],
   "source": [
    "device_type_counts = train.device_type.value_counts()\n",
    "device_type_counts = pd.DataFrame(device_type_counts)\n",
    "device_type_counts"
   ]
  },
  {
   "cell_type": "code",
   "execution_count": 45,
   "metadata": {},
   "outputs": [
    {
     "data": {
      "image/png": "[encoded data removed]",
      "text/plain": [
       "<Figure size 720x432 with 1 Axes>"
      ]
     },
     "metadata": {
      "needs_background": "light"
     },
     "output_type": "display_data"
    }
   ],
   "source": [
    "#let see how transactions are distrrbuted with respect to device type\n",
    "# Set the width and height of the figure\n",
    "plt.figure(figsize=(10,6))\n",
    "\n",
    "# Add title\n",
    "plt.title(\"Transaction COUNTS - Device WISE\")\n",
    "\n",
    "sns.barplot(x = device_type_counts.index,\n",
    "            y = device_type_counts.device_type)\n",
    "\n",
    "# Add label for vertical axis\n",
    "plt.ylabel(\"Count\")\n",
    "\n",
    "\n",
    "plt.show()"
   ]
  },
  {
   "cell_type": "code",
   "execution_count": 46,
   "metadata": {},
   "outputs": [],
   "source": [
    "#most of the transactions are made with android and other_pcs devices"
   ]
  },
  {
   "cell_type": "code",
   "execution_count": 47,
   "metadata": {},
   "outputs": [
    {
     "data": {
      "image/png": "[encoded data removed]",
      "text/plain": [
       "<Figure size 432x288 with 1 Axes>"
      ]
     },
     "metadata": {
      "needs_background": "light"
     },
     "output_type": "display_data"
    }
   ],
   "source": [
    "sns.countplot(x=\"device_type\", \n",
    "              hue=\"is_fraud\", \n",
    "              data=train)\n",
    "plt.show()"
   ]
  },
  {
   "cell_type": "code",
   "execution_count": 48,
   "metadata": {},
   "outputs": [],
   "source": [
    "df=train.groupby(['device_type','is_fraud'])['device_type'].count().to_frame().rename(columns={'device_type':'count'}).reset_index()"
   ]
  },
  {
   "cell_type": "code",
   "execution_count": 49,
   "metadata": {},
   "outputs": [
    {
     "data": {
      "text/html": [
       "<div>\n",
       "<style scoped>\n",
       "    .dataframe tbody tr th:only-of-type {\n",
       "        vertical-align: middle;\n",
       "    }\n",
       "\n",
       "    .dataframe tbody tr th {\n",
       "        vertical-align: top;\n",
       "    }\n",
       "\n",
       "    .dataframe thead th {\n",
       "        text-align: right;\n",
       "    }\n",
       "</style>\n",
       "<table border=\"1\" class=\"dataframe\">\n",
       "  <thead>\n",
       "    <tr style=\"text-align: right;\">\n",
       "      <th></th>\n",
       "      <th>device_type</th>\n",
       "      <th>is_fraud</th>\n",
       "      <th>count</th>\n",
       "    </tr>\n",
       "  </thead>\n",
       "  <tbody>\n",
       "    <tr>\n",
       "      <th>0</th>\n",
       "      <td>android_devices</td>\n",
       "      <td>0</td>\n",
       "      <td>29657</td>\n",
       "    </tr>\n",
       "    <tr>\n",
       "      <th>1</th>\n",
       "      <td>android_devices</td>\n",
       "      <td>1</td>\n",
       "      <td>5</td>\n",
       "    </tr>\n",
       "    <tr>\n",
       "      <th>2</th>\n",
       "      <td>ios_devices</td>\n",
       "      <td>0</td>\n",
       "      <td>876</td>\n",
       "    </tr>\n",
       "    <tr>\n",
       "      <th>3</th>\n",
       "      <td>ios_devices</td>\n",
       "      <td>1</td>\n",
       "      <td>0</td>\n",
       "    </tr>\n",
       "    <tr>\n",
       "      <th>4</th>\n",
       "      <td>other_pcs</td>\n",
       "      <td>0</td>\n",
       "      <td>45415</td>\n",
       "    </tr>\n",
       "    <tr>\n",
       "      <th>5</th>\n",
       "      <td>other_pcs</td>\n",
       "      <td>1</td>\n",
       "      <td>145</td>\n",
       "    </tr>\n",
       "    <tr>\n",
       "      <th>6</th>\n",
       "      <td>windows_pcs</td>\n",
       "      <td>0</td>\n",
       "      <td>427</td>\n",
       "    </tr>\n",
       "    <tr>\n",
       "      <th>7</th>\n",
       "      <td>windows_pcs</td>\n",
       "      <td>1</td>\n",
       "      <td>4</td>\n",
       "    </tr>\n",
       "  </tbody>\n",
       "</table>\n",
       "</div>"
      ],
      "text/plain": [
       "       device_type is_fraud  count\n",
       "0  android_devices        0  29657\n",
       "1  android_devices        1      5\n",
       "2      ios_devices        0    876\n",
       "3      ios_devices        1      0\n",
       "4        other_pcs        0  45415\n",
       "5        other_pcs        1    145\n",
       "6      windows_pcs        0    427\n",
       "7      windows_pcs        1      4"
      ]
     },
     "execution_count": 49,
     "metadata": {},
     "output_type": "execute_result"
    }
   ],
   "source": [
    "df"
   ]
  },
  {
   "cell_type": "code",
   "execution_count": 50,
   "metadata": {},
   "outputs": [
    {
     "data": {
      "text/plain": [
       "<seaborn.axisgrid.FacetGrid at 0x1ed2b1e95c0>"
      ]
     },
     "execution_count": 50,
     "metadata": {},
     "output_type": "execute_result"
    },
    {
     "data": {
      "image/png": "[encoded data removed]",
      "text/plain": [
       "<Figure size 691.2x288 with 2 Axes>"
      ]
     },
     "metadata": {
      "needs_background": "light"
     },
     "output_type": "display_data"
    }
   ],
   "source": [
    "#height=4, aspect=.7\n",
    "sns.catplot(x=\"device_type\", y=\"count\",col=\"is_fraud\",\n",
    "                data=df, kind=\"bar\", height=4, aspect=1.2) "
   ]
  },
  {
   "cell_type": "code",
   "execution_count": 51,
   "metadata": {},
   "outputs": [],
   "source": [
    "#slightly orange color is visble here so other pcs is what where many of the fraud transactions are present.\n",
    "#company should focus on this mode of transaction"
   ]
  },
  {
   "cell_type": "markdown",
   "metadata": {},
   "source": [
    "# Drawing Trends from target variable"
   ]
  },
  {
   "cell_type": "code",
   "execution_count": 52,
   "metadata": {},
   "outputs": [
    {
     "data": {
      "text/html": [
       "<div>\n",
       "<style scoped>\n",
       "    .dataframe tbody tr th:only-of-type {\n",
       "        vertical-align: middle;\n",
       "    }\n",
       "\n",
       "    .dataframe tbody tr th {\n",
       "        vertical-align: top;\n",
       "    }\n",
       "\n",
       "    .dataframe thead th {\n",
       "        text-align: right;\n",
       "    }\n",
       "</style>\n",
       "<table border=\"1\" class=\"dataframe\">\n",
       "  <thead>\n",
       "    <tr style=\"text-align: right;\">\n",
       "      <th></th>\n",
       "      <th>money_transacted</th>\n",
       "    </tr>\n",
       "    <tr>\n",
       "      <th>is_fraud</th>\n",
       "      <th></th>\n",
       "    </tr>\n",
       "  </thead>\n",
       "  <tbody>\n",
       "    <tr>\n",
       "      <th>0</th>\n",
       "      <td>72.532</td>\n",
       "    </tr>\n",
       "    <tr>\n",
       "      <th>1</th>\n",
       "      <td>29984.550</td>\n",
       "    </tr>\n",
       "  </tbody>\n",
       "</table>\n",
       "</div>"
      ],
      "text/plain": [
       "          money_transacted\n",
       "is_fraud                  \n",
       "0                   72.532\n",
       "1                29984.550"
      ]
     },
     "execution_count": 52,
     "metadata": {},
     "output_type": "execute_result"
    }
   ],
   "source": [
    "train.groupby('is_fraud').mean()"
   ]
  },
  {
   "cell_type": "code",
   "execution_count": 53,
   "metadata": {},
   "outputs": [],
   "source": [
    "##as we thought the fraud transaction should have high amount\n",
    "# we can see that mean of the money_transacted if it is a fraud is very high as compared to not fraud"
   ]
  },
  {
   "cell_type": "code",
   "execution_count": 54,
   "metadata": {},
   "outputs": [
    {
     "data": {
      "image/png": "[encoded data removed]",
      "text/plain": [
       "<Figure size 720x720 with 1 Axes>"
      ]
     },
     "metadata": {
      "needs_background": "light"
     },
     "output_type": "display_data"
    }
   ],
   "source": [
    "fig, axs = plt.subplots(figsize = (10,10))\n",
    "sns.boxplot(data=train[numerical_columns],orient='h',palette=\"Set2\")\n",
    "plt.show()"
   ]
  },
  {
   "cell_type": "code",
   "execution_count": 55,
   "metadata": {},
   "outputs": [
    {
     "data": {
      "text/html": [
       "<div>\n",
       "<style scoped>\n",
       "    .dataframe tbody tr th:only-of-type {\n",
       "        vertical-align: middle;\n",
       "    }\n",
       "\n",
       "    .dataframe tbody tr th {\n",
       "        vertical-align: top;\n",
       "    }\n",
       "\n",
       "    .dataframe thead th {\n",
       "        text-align: right;\n",
       "    }\n",
       "</style>\n",
       "<table border=\"1\" class=\"dataframe\">\n",
       "  <thead>\n",
       "    <tr style=\"text-align: right;\">\n",
       "      <th></th>\n",
       "      <th>partner_category</th>\n",
       "    </tr>\n",
       "  </thead>\n",
       "  <tbody>\n",
       "    <tr>\n",
       "      <th>cat_1</th>\n",
       "      <td>0.474</td>\n",
       "    </tr>\n",
       "    <tr>\n",
       "      <th>cat_2</th>\n",
       "      <td>0.471</td>\n",
       "    </tr>\n",
       "    <tr>\n",
       "      <th>cat_3</th>\n",
       "      <td>0.020</td>\n",
       "    </tr>\n",
       "    <tr>\n",
       "      <th>cat_4</th>\n",
       "      <td>0.017</td>\n",
       "    </tr>\n",
       "    <tr>\n",
       "      <th>cat_5</th>\n",
       "      <td>0.013</td>\n",
       "    </tr>\n",
       "    <tr>\n",
       "      <th>cat_7</th>\n",
       "      <td>0.002</td>\n",
       "    </tr>\n",
       "    <tr>\n",
       "      <th>cat_6</th>\n",
       "      <td>0.002</td>\n",
       "    </tr>\n",
       "    <tr>\n",
       "      <th>cat_8</th>\n",
       "      <td>0.000</td>\n",
       "    </tr>\n",
       "    <tr>\n",
       "      <th>cat_9</th>\n",
       "      <td>0.000</td>\n",
       "    </tr>\n",
       "  </tbody>\n",
       "</table>\n",
       "</div>"
      ],
      "text/plain": [
       "       partner_category\n",
       "cat_1             0.474\n",
       "cat_2             0.471\n",
       "cat_3             0.020\n",
       "cat_4             0.017\n",
       "cat_5             0.013\n",
       "cat_7             0.002\n",
       "cat_6             0.002\n",
       "cat_8             0.000\n",
       "cat_9             0.000"
      ]
     },
     "execution_count": 55,
     "metadata": {},
     "output_type": "execute_result"
    }
   ],
   "source": [
    "partner_category_counts = train.partner_category.value_counts(normalize=True)\n",
    "partner_category_counts = pd.DataFrame(partner_category_counts)\n",
    "partner_category_counts"
   ]
  },
  {
   "cell_type": "code",
   "execution_count": 56,
   "metadata": {},
   "outputs": [],
   "source": [
    "#close 94% of the transactions are in cat1 and cat2"
   ]
  },
  {
   "cell_type": "code",
   "execution_count": 57,
   "metadata": {},
   "outputs": [
    {
     "data": {
      "text/plain": [
       "<Figure size 1440x576 with 0 Axes>"
      ]
     },
     "metadata": {},
     "output_type": "display_data"
    },
    {
     "data": {
      "image/png": "[encoded data removed]",
      "text/plain": [
       "<Figure size 777.6x432 with 2 Axes>"
      ]
     },
     "metadata": {
      "needs_background": "light"
     },
     "output_type": "display_data"
    }
   ],
   "source": [
    "plt.figure(figsize = (20,8))\n",
    "g = sns.catplot(x=\"partner_category\", y=\"money_transacted\",\n",
    "                hue=\"is_fraud\",col=\"is_fraud\",\n",
    "                data=train, kind=\"box\",\n",
    "                height=6, aspect=.9);"
   ]
  },
  {
   "cell_type": "markdown",
   "metadata": {},
   "source": [
    "1. interesting to see that, in cat 1 has  fraud money transacted median value is higher than cat2\n",
    "2. cat8 has only 19 transactions which is very less but we can see some fraudulent transaction cat8.\n",
    "3. client should focus on partner category of cat1,cat2,cat8"
   ]
  },
  {
   "cell_type": "code",
   "execution_count": 58,
   "metadata": {},
   "outputs": [],
   "source": [
    "df2=train.groupby(['payment_method','is_fraud'])['payment_method'].count().to_frame().rename(columns={'payment_method':'payment_count'}).reset_index()"
   ]
  },
  {
   "cell_type": "code",
   "execution_count": 59,
   "metadata": {},
   "outputs": [
    {
     "data": {
      "text/html": [
       "<div>\n",
       "<style scoped>\n",
       "    .dataframe tbody tr th:only-of-type {\n",
       "        vertical-align: middle;\n",
       "    }\n",
       "\n",
       "    .dataframe tbody tr th {\n",
       "        vertical-align: top;\n",
       "    }\n",
       "\n",
       "    .dataframe thead th {\n",
       "        text-align: right;\n",
       "    }\n",
       "</style>\n",
       "<table border=\"1\" class=\"dataframe\">\n",
       "  <thead>\n",
       "    <tr style=\"text-align: right;\">\n",
       "      <th></th>\n",
       "      <th>payment_method</th>\n",
       "      <th>is_fraud</th>\n",
       "      <th>payment_count</th>\n",
       "    </tr>\n",
       "  </thead>\n",
       "  <tbody>\n",
       "    <tr>\n",
       "      <th>0</th>\n",
       "      <td>e_wallet_payments</td>\n",
       "      <td>0</td>\n",
       "      <td>27382</td>\n",
       "    </tr>\n",
       "    <tr>\n",
       "      <th>1</th>\n",
       "      <td>e_wallet_payments</td>\n",
       "      <td>1</td>\n",
       "      <td>2</td>\n",
       "    </tr>\n",
       "    <tr>\n",
       "      <th>2</th>\n",
       "      <td>other_debit_cards</td>\n",
       "      <td>0</td>\n",
       "      <td>4452</td>\n",
       "    </tr>\n",
       "    <tr>\n",
       "      <th>3</th>\n",
       "      <td>other_debit_cards</td>\n",
       "      <td>1</td>\n",
       "      <td>43</td>\n",
       "    </tr>\n",
       "    <tr>\n",
       "      <th>4</th>\n",
       "      <td>sbi_atm_cum_debit_card</td>\n",
       "      <td>0</td>\n",
       "      <td>30533</td>\n",
       "    </tr>\n",
       "    <tr>\n",
       "      <th>5</th>\n",
       "      <td>sbi_atm_cum_debit_card</td>\n",
       "      <td>1</td>\n",
       "      <td>5</td>\n",
       "    </tr>\n",
       "    <tr>\n",
       "      <th>6</th>\n",
       "      <td>unified_payments_interface</td>\n",
       "      <td>0</td>\n",
       "      <td>15</td>\n",
       "    </tr>\n",
       "    <tr>\n",
       "      <th>7</th>\n",
       "      <td>unified_payments_interface</td>\n",
       "      <td>1</td>\n",
       "      <td>0</td>\n",
       "    </tr>\n",
       "    <tr>\n",
       "      <th>8</th>\n",
       "      <td>visa_master_credit_cards</td>\n",
       "      <td>0</td>\n",
       "      <td>2401</td>\n",
       "    </tr>\n",
       "    <tr>\n",
       "      <th>9</th>\n",
       "      <td>visa_master_credit_cards</td>\n",
       "      <td>1</td>\n",
       "      <td>53</td>\n",
       "    </tr>\n",
       "    <tr>\n",
       "      <th>10</th>\n",
       "      <td>visa_master_debit_cards</td>\n",
       "      <td>0</td>\n",
       "      <td>11592</td>\n",
       "    </tr>\n",
       "    <tr>\n",
       "      <th>11</th>\n",
       "      <td>visa_master_debit_cards</td>\n",
       "      <td>1</td>\n",
       "      <td>51</td>\n",
       "    </tr>\n",
       "  </tbody>\n",
       "</table>\n",
       "</div>"
      ],
      "text/plain": [
       "                payment_method is_fraud  payment_count\n",
       "0            e_wallet_payments        0          27382\n",
       "1            e_wallet_payments        1              2\n",
       "2            other_debit_cards        0           4452\n",
       "3            other_debit_cards        1             43\n",
       "4       sbi_atm_cum_debit_card        0          30533\n",
       "5       sbi_atm_cum_debit_card        1              5\n",
       "6   unified_payments_interface        0             15\n",
       "7   unified_payments_interface        1              0\n",
       "8     visa_master_credit_cards        0           2401\n",
       "9     visa_master_credit_cards        1             53\n",
       "10     visa_master_debit_cards        0          11592\n",
       "11     visa_master_debit_cards        1             51"
      ]
     },
     "execution_count": 59,
     "metadata": {},
     "output_type": "execute_result"
    }
   ],
   "source": [
    "df2"
   ]
  },
  {
   "cell_type": "code",
   "execution_count": 60,
   "metadata": {},
   "outputs": [
    {
     "data": {
      "text/plain": [
       "<seaborn.axisgrid.FacetGrid at 0x1ed2c6f9438>"
      ]
     },
     "execution_count": 60,
     "metadata": {},
     "output_type": "execute_result"
    },
    {
     "data": {
      "image/png": "[encoded data removed]",
      "text/plain": [
       "<Figure size 1512x252 with 2 Axes>"
      ]
     },
     "metadata": {
      "needs_background": "light"
     },
     "output_type": "display_data"
    }
   ],
   "source": [
    "#height=4, aspect=.7\n",
    "sns.catplot(x=\"payment_method\", y=\"payment_count\",col=\"is_fraud\",\n",
    "                data=df2, kind=\"bar\", height=3.5, aspect=3.0) "
   ]
  },
  {
   "cell_type": "markdown",
   "metadata": {},
   "source": [
    "#target distribution in categorical columns \n",
    "fig = plt.figure(figsize=(7,8))\n",
    "fig.subplots_adjust(wspace=0.5,hspace=1)\n",
    "cat_columns=list(train.select_dtypes(include=['category','object']).columns)\n",
    "cat_cols = cat_columns[0:2]\n",
    "for value in cat_cols:\n",
    "    if value!= 'is_fraud':\n",
    "        data_plot=pd.crosstab(train[value],train['is_fraud'])\n",
    "        #print(data_plot)\n",
    "        data_plot.plot(kind='bar')\n",
    "        plt.xticks(rotation=90)\n",
    "        plt.show()"
   ]
  },
  {
   "cell_type": "code",
   "execution_count": 62,
   "metadata": {},
   "outputs": [
    {
     "data": {
      "text/plain": [
       "<Figure size 504x504 with 0 Axes>"
      ]
     },
     "metadata": {},
     "output_type": "display_data"
    },
    {
     "data": {
      "image/png": "[encoded data removed]",
      "text/plain": [
       "<Figure size 432x288 with 1 Axes>"
      ]
     },
     "metadata": {
      "needs_background": "light"
     },
     "output_type": "display_data"
    },
    {
     "data": {
      "image/png": "[encoded data removed]",
      "text/plain": [
       "<Figure size 432x288 with 1 Axes>"
      ]
     },
     "metadata": {
      "needs_background": "light"
     },
     "output_type": "display_data"
    },
    {
     "data": {
      "image/png": "[encoded data removed]",
      "text/plain": [
       "<Figure size 432x288 with 1 Axes>"
      ]
     },
     "metadata": {
      "needs_background": "light"
     },
     "output_type": "display_data"
    }
   ],
   "source": [
    "#target distribution in categorical columns \n",
    "fig = plt.figure(figsize=(7,7))\n",
    "fig.subplots_adjust(wspace=0.5,hspace=1)\n",
    "\n",
    "cat_cols2 = cat_columns[2:5]\n",
    "for value in cat_cols2:\n",
    "    if value!= 'is_fraud':\n",
    "        data_plot=pd.crosstab(train[value],train['is_fraud'])\n",
    "        #print(data_plot)\n",
    "        data_plot.plot(kind='bar')\n",
    "        plt.xticks(rotation=90)\n",
    "        plt.show()"
   ]
  },
  {
   "cell_type": "code",
   "execution_count": null,
   "metadata": {},
   "outputs": [],
   "source": [
    "#target distribution in categorical columns \n",
    "fig = plt.figure(figsize=(7,7))\n",
    "fig.subplots_adjust(wspace=0.5,hspace=1)\n",
    "\n",
    "cat_cols2 = cat_columns[5:]\n",
    "for value in cat_cols2:\n",
    "    if value!= 'is_fraud':\n",
    "        data_plot=pd.crosstab(train[value],train['is_fraud'])\n",
    "        #print(data_plot)\n",
    "        data_plot.plot(kind='bar')\n",
    "        plt.xticks(rotation=90)\n",
    "        plt.show()"
   ]
  },
  {
   "cell_type": "code",
   "execution_count": 63,
   "metadata": {},
   "outputs": [
    {
     "data": {
      "image/png": "[encoded data removed]",
      "text/plain": [
       "<Figure size 864x1728 with 1 Axes>"
      ]
     },
     "metadata": {
      "needs_background": "light"
     },
     "output_type": "display_data"
    }
   ],
   "source": [
    "#distribution of numerical variables with respect to target.\n",
    "fig=plt.figure(figsize=(12,24))\n",
    "fig.subplots_adjust(wspace=0.6,hspace=1)\n",
    "num_columns=train.select_dtypes(exclude=['category','object']).columns\n",
    "\n",
    "for i,value in enumerate(num_columns):\n",
    "    plt.subplot(5,2,i+1)\n",
    "    plt.xticks(rotation=30)\n",
    "    plt.title(value)\n",
    "    sns.boxplot(x='is_fraud',y=value,data=train)\n",
    "plt.show()"
   ]
  },
  {
   "cell_type": "code",
   "execution_count": null,
   "metadata": {},
   "outputs": [],
   "source": [
    "#as fraud transactions are happened in high value amount,may be the client can add another mode of security to ensure \n",
    "#if it is not fraud transaction"
   ]
  },
  {
   "cell_type": "markdown",
   "metadata": {},
   "source": [
    "# Dividing data into training and validation subsets "
   ]
  },
  {
   "cell_type": "code",
   "execution_count": 64,
   "metadata": {},
   "outputs": [],
   "source": [
    "#Seperate Independent and Dependent attributes.\n",
    "y = train['is_fraud']\n",
    "X = train.drop(['is_fraud'], axis=1)\n",
    "\n",
    "X_train, X_test, y_train, y_test = train_test_split(X,y,train_size=0.7,test_size=0.3,stratify = y,random_state=0)"
   ]
  },
  {
   "cell_type": "code",
   "execution_count": 65,
   "metadata": {},
   "outputs": [
    {
     "data": {
      "text/plain": [
       "8008     0\n",
       "74173    0\n",
       "53932    0\n",
       "64979    0\n",
       "50440    0\n",
       "Name: is_fraud, dtype: category\n",
       "Categories (2, int64): [0, 1]"
      ]
     },
     "execution_count": 65,
     "metadata": {},
     "output_type": "execute_result"
    }
   ],
   "source": [
    "y_train.head()"
   ]
  },
  {
   "cell_type": "code",
   "execution_count": 66,
   "metadata": {},
   "outputs": [
    {
     "name": "stdout",
     "output_type": "stream",
     "text": [
      "X_train dimensions:  (53570, 11)\n",
      "y_train dimensions:  (53570,)\n",
      "X_test dimensions:   (22959, 11)\n",
      "y_test dimensions:   (22959,)\n"
     ]
    }
   ],
   "source": [
    "#let us see the dimensions after splitting\n",
    "print('X_train dimensions: ', X_train.shape)\n",
    "print('y_train dimensions: ', y_train.shape)\n",
    "print('X_test dimensions:  ', X_test.shape)\n",
    "print('y_test dimensions:  ', y_test.shape)"
   ]
  },
  {
   "cell_type": "code",
   "execution_count": 67,
   "metadata": {},
   "outputs": [
    {
     "data": {
      "text/html": [
       "<div>\n",
       "<style scoped>\n",
       "    .dataframe tbody tr th:only-of-type {\n",
       "        vertical-align: middle;\n",
       "    }\n",
       "\n",
       "    .dataframe tbody tr th {\n",
       "        vertical-align: top;\n",
       "    }\n",
       "\n",
       "    .dataframe thead th {\n",
       "        text-align: right;\n",
       "    }\n",
       "</style>\n",
       "<table border=\"1\" class=\"dataframe\">\n",
       "  <thead>\n",
       "    <tr style=\"text-align: right;\">\n",
       "      <th></th>\n",
       "      <th>count</th>\n",
       "      <th>count%</th>\n",
       "    </tr>\n",
       "  </thead>\n",
       "  <tbody>\n",
       "    <tr>\n",
       "      <th>0</th>\n",
       "      <td>53462</td>\n",
       "      <td>99.800</td>\n",
       "    </tr>\n",
       "    <tr>\n",
       "      <th>1</th>\n",
       "      <td>108</td>\n",
       "      <td>0.200</td>\n",
       "    </tr>\n",
       "  </tbody>\n",
       "</table>\n",
       "</div>"
      ],
      "text/plain": [
       "   count  count%\n",
       "0  53462  99.800\n",
       "1    108   0.200"
      ]
     },
     "execution_count": 67,
     "metadata": {},
     "output_type": "execute_result"
    }
   ],
   "source": [
    "#checking target distribution in train and validation sets\n",
    "fn_target_dist(y_train)"
   ]
  },
  {
   "cell_type": "code",
   "execution_count": null,
   "metadata": {},
   "outputs": [],
   "source": [
    "fn_target_dist(y_test)"
   ]
  },
  {
   "cell_type": "code",
   "execution_count": 68,
   "metadata": {},
   "outputs": [],
   "source": [
    "#initializing a dataframe to store the metrics from classification different models\n",
    "metrics = pd.DataFrame(columns=['model','Accuracy','precision_1class','precision_0class',\n",
    "                                'recall_1class','recall_0class','f1score_1class','f1score_0class','AUC_value'])"
   ]
  },
  {
   "cell_type": "code",
   "execution_count": 69,
   "metadata": {},
   "outputs": [],
   "source": [
    "# Function to generate classification metrics,AUC value of model and stores in metrics\n",
    "def fn_compute_metrics(model,modelname, \n",
    "                       data, \n",
    "                       actuals):\n",
    "    global metrics\n",
    "    predictions = model.predict(data)\n",
    "    print('\\nConfusion Matrix :')\n",
    "    print(confusion_matrix(actuals, predictions) ) \n",
    "    cf = confusion_matrix(actuals, predictions)\n",
    "    \n",
    "   \n",
    "    Accuracy = accuracy_score(actuals,predictions)\n",
    "    precision_0class = precision_score(actuals,predictions,average = None)[0]\n",
    "    precision_1class = precision_score(actuals,predictions,average = None)[1]\n",
    "    \n",
    "    recall_0class = recall_score(actuals,predictions,average = None)[0]\n",
    "    recall_1class = recall_score(actuals,predictions,average = None)[1]\n",
    "    \n",
    "    f1score_0class = f1_score(actuals,predictions,average = None)[0]\n",
    "    f1score_1class = f1_score(actuals,predictions,average = None)[1]\n",
    "    \n",
    "    lb = LabelBinarizer()\n",
    "    actuals = lb.fit_transform(actuals)\n",
    "    y_scores = []\n",
    "    y_scores = model.predict_proba(data)[:, 1]\n",
    "\n",
    "    fpr, tpr, auc_thresholds = roc_curve(actuals, y_scores)\n",
    "    AUC_value = roc_auc_score(actuals, y_scores)\n",
    "    \n",
    "    metrics = metrics.append({'precision_1class':precision_1class,\n",
    "                            'precision_0class':precision_0class, \n",
    "                            'recall_1class':recall_1class, \n",
    "                            'recall_0class':recall_0class,\n",
    "                            'f1score_0class':f1score_0class,\n",
    "                            'f1score_1class':f1score_1class,\n",
    "                            'Accuracy':Accuracy,\n",
    "                            'model':modelname,\n",
    "                            'AUC_value':AUC_value}, ignore_index=True)\n",
    "     \n",
    "    print('\\nReport : ')\n",
    "    print(classification_report(actuals, predictions))\n",
    "    print('\\nAccuracy Score :', Accuracy)\n",
    "    print('\\nAUC Score :',AUC_value)\n",
    "    \n",
    "    return ''"
   ]
  },
  {
   "cell_type": "markdown",
   "metadata": {},
   "source": [
    "# logistic Regression Classifier"
   ]
  },
  {
   "cell_type": "code",
   "execution_count": 70,
   "metadata": {},
   "outputs": [
    {
     "name": "stdout",
     "output_type": "stream",
     "text": [
      "\n",
      "TRAIN METRICS FOR THE LOGIISTIC MODEL\n",
      "\n",
      "Confusion Matrix :\n",
      "[[53447    15]\n",
      " [   59    49]]\n",
      "\n",
      "Report : \n",
      "              precision    recall  f1-score   support\n",
      "\n",
      "           0       1.00      1.00      1.00     53462\n",
      "           1       0.77      0.45      0.57       108\n",
      "\n",
      "    accuracy                           1.00     53570\n",
      "   macro avg       0.88      0.73      0.78     53570\n",
      "weighted avg       1.00      1.00      1.00     53570\n",
      "\n",
      "\n",
      "Accuracy Score : 0.9986186298301288\n",
      "\n",
      "AUC Score : 0.9962447366561504\n",
      "\n",
      "*******************************************************\n",
      "\n",
      "TEST METRICS FOR THE LOGISTIC MODEL\n",
      "\n",
      "Confusion Matrix :\n",
      "[[22909     4]\n",
      " [   28    18]]\n",
      "\n",
      "Report : \n",
      "              precision    recall  f1-score   support\n",
      "\n",
      "           0       1.00      1.00      1.00     22913\n",
      "           1       0.82      0.39      0.53        46\n",
      "\n",
      "    accuracy                           1.00     22959\n",
      "   macro avg       0.91      0.70      0.76     22959\n",
      "weighted avg       1.00      1.00      1.00     22959\n",
      "\n",
      "\n",
      "Accuracy Score : 0.9986062110719108\n",
      "\n",
      "AUC Score : 0.983126153939571\n",
      "\n",
      "Wall time: 12.8 s\n"
     ]
    }
   ],
   "source": [
    "%%time\n",
    "clf_logreg = Pipeline(steps=[('Preprocessor', preprocessor),\n",
    "                      ('classifier', LogisticRegression(max_iter=500))])\n",
    "\n",
    "\n",
    "clf_logreg.fit(X_train, y_train)\n",
    "\n",
    "print(\"\\nTRAIN METRICS FOR THE LOGIISTIC MODEL\")\n",
    "print(fn_compute_metrics(clf_logreg,'logistic_train', X_train, y_train))\n",
    "print(\"*****\"*11)\n",
    "print(\"\\nTEST METRICS FOR THE LOGISTIC MODEL\")\n",
    "print(fn_compute_metrics(clf_logreg,'logistic_test', X_test, y_test))"
   ]
  },
  {
   "cell_type": "code",
   "execution_count": 71,
   "metadata": {},
   "outputs": [
    {
     "data": {
      "text/html": [
       "<div>\n",
       "<style scoped>\n",
       "    .dataframe tbody tr th:only-of-type {\n",
       "        vertical-align: middle;\n",
       "    }\n",
       "\n",
       "    .dataframe tbody tr th {\n",
       "        vertical-align: top;\n",
       "    }\n",
       "\n",
       "    .dataframe thead th {\n",
       "        text-align: right;\n",
       "    }\n",
       "</style>\n",
       "<table border=\"1\" class=\"dataframe\">\n",
       "  <thead>\n",
       "    <tr style=\"text-align: right;\">\n",
       "      <th></th>\n",
       "      <th>model</th>\n",
       "      <th>Accuracy</th>\n",
       "      <th>precision_1class</th>\n",
       "      <th>precision_0class</th>\n",
       "      <th>recall_1class</th>\n",
       "      <th>recall_0class</th>\n",
       "      <th>f1score_1class</th>\n",
       "      <th>f1score_0class</th>\n",
       "      <th>AUC_value</th>\n",
       "    </tr>\n",
       "  </thead>\n",
       "  <tbody>\n",
       "    <tr>\n",
       "      <th>0</th>\n",
       "      <td>logistic_train</td>\n",
       "      <td>0.999</td>\n",
       "      <td>0.766</td>\n",
       "      <td>0.999</td>\n",
       "      <td>0.454</td>\n",
       "      <td>1.000</td>\n",
       "      <td>0.570</td>\n",
       "      <td>0.999</td>\n",
       "      <td>0.996</td>\n",
       "    </tr>\n",
       "    <tr>\n",
       "      <th>1</th>\n",
       "      <td>logistic_test</td>\n",
       "      <td>0.999</td>\n",
       "      <td>0.818</td>\n",
       "      <td>0.999</td>\n",
       "      <td>0.391</td>\n",
       "      <td>1.000</td>\n",
       "      <td>0.529</td>\n",
       "      <td>0.999</td>\n",
       "      <td>0.983</td>\n",
       "    </tr>\n",
       "  </tbody>\n",
       "</table>\n",
       "</div>"
      ],
      "text/plain": [
       "            model  Accuracy  precision_1class  precision_0class  \\\n",
       "0  logistic_train     0.999             0.766             0.999   \n",
       "1   logistic_test     0.999             0.818             0.999   \n",
       "\n",
       "   recall_1class  recall_0class  f1score_1class  f1score_0class  AUC_value  \n",
       "0          0.454          1.000           0.570           0.999      0.996  \n",
       "1          0.391          1.000           0.529           0.999      0.983  "
      ]
     },
     "execution_count": 71,
     "metadata": {},
     "output_type": "execute_result"
    }
   ],
   "source": [
    "metrics"
   ]
  },
  {
   "cell_type": "markdown",
   "metadata": {},
   "source": [
    "# KNN Model1"
   ]
  },
  {
   "cell_type": "code",
   "execution_count": null,
   "metadata": {},
   "outputs": [],
   "source": [
    "\n",
    "from sklearn.neighbors import KNeighborsClassifier\n",
    "\n",
    "knn_model = KNeighborsClassifier(n_neighbors = 3,\n",
    "                                 metric = \"euclidean\")"
   ]
  },
  {
   "cell_type": "code",
   "execution_count": null,
   "metadata": {},
   "outputs": [],
   "source": [
    "# Bundle preprocessing and modeling code in a pipeline\n",
    "knn_pipeline1 = Pipeline(steps=[('Preprocessor', preprocessor),\n",
    "                               ('model', knn_model)\n",
    "                             ])\n",
    "\n",
    "# Preprocessing of training data, fit model \n",
    "knn_pipeline1.fit(X_train, y_train)"
   ]
  },
  {
   "cell_type": "code",
   "execution_count": null,
   "metadata": {},
   "outputs": [],
   "source": [
    "print(\"\\nTRAIN METRICS FOR THE KNN MODEL\")\n",
    "print(fn_compute_metrics(knn_pipeline1,'knn1_train', X_train, y_train))\n",
    "print(\"*****\"*11)\n",
    "print(\"\\nTEST METRICS FOR THE KNN MODEL\")\n",
    "print(fn_compute_metrics(knn_pipeline1,'knn1_test', X_test, y_test))"
   ]
  },
  {
   "cell_type": "code",
   "execution_count": null,
   "metadata": {},
   "outputs": [],
   "source": [
    "metrics"
   ]
  },
  {
   "cell_type": "markdown",
   "metadata": {},
   "source": [
    "# Decision Tree model1"
   ]
  },
  {
   "cell_type": "code",
   "execution_count": null,
   "metadata": {},
   "outputs": [],
   "source": [
    "%%time\n",
    "clf_dt = Pipeline(steps=[('Preprocessor', preprocessor),\n",
    "                      ('classifier', DecisionTreeClassifier())])\n",
    "\n",
    "dt_param_grid = {'classifier__criterion': ['entropy'], 'classifier__max_depth': [8], 'classifier__min_samples_leaf': [10],\n",
    "                 'classifier__min_samples_split': [20],\"classifier__class_weight\":['balanced']}\n",
    "\n",
    "dt_grid = GridSearchCV(clf_dt, param_grid=dt_param_grid, cv=5,verbose=3)\n",
    "\n",
    "dt_grid.fit(X_train,y_train)"
   ]
  },
  {
   "cell_type": "code",
   "execution_count": null,
   "metadata": {},
   "outputs": [],
   "source": [
    "#using compute func it predicts with the model and compares it with actual y train then gives the confusion matrix\n",
    "print(\"\\nTRAIN METRICS FOR THE DT MODEL\")\n",
    "print(fn_compute_metrics(dt_grid,'dt_model1_train',X_train, y_train))\n",
    "print(\"*****\"*11)\n",
    "print(\"\\nTEST METRICS FOR THE DT MODEL\")\n",
    "print(fn_compute_metrics(dt_grid,'dt_model1_test',X_test, y_test))"
   ]
  },
  {
   "cell_type": "code",
   "execution_count": null,
   "metadata": {},
   "outputs": [],
   "source": [
    "dt_best1 = dt_grid.best_estimator_"
   ]
  },
  {
   "cell_type": "code",
   "execution_count": null,
   "metadata": {},
   "outputs": [],
   "source": [
    "metrics"
   ]
  },
  {
   "cell_type": "markdown",
   "metadata": {},
   "source": [
    "# KNN2 model2"
   ]
  },
  {
   "cell_type": "code",
   "execution_count": 74,
   "metadata": {},
   "outputs": [],
   "source": [
    "\n",
    "from sklearn.neighbors import KNeighborsClassifier\n",
    "\n",
    "knn_model2 = KNeighborsClassifier(n_neighbors = 5,\n",
    "                                 metric = \"euclidean\")"
   ]
  },
  {
   "cell_type": "code",
   "execution_count": 75,
   "metadata": {},
   "outputs": [
    {
     "data": {
      "text/plain": [
       "Pipeline(steps=[('Preprocessor',\n",
       "                 ColumnTransformer(transformers=[('num_trf',\n",
       "                                                  Pipeline(steps=[('num_imputer',\n",
       "                                                                   SimpleImputer()),\n",
       "                                                                  ('num_scaler',\n",
       "                                                                   StandardScaler())]),\n",
       "                                                  ['money_transacted']),\n",
       "                                                 ('cat_trf',\n",
       "                                                  Pipeline(steps=[('cat_imputer',\n",
       "                                                                   SimpleImputer(strategy='most_frequent')),\n",
       "                                                                  ('cat_onehotencode',\n",
       "                                                                   OneHotEncoder(handle_unknown='ignore'))]),\n",
       "                                                  ['user_id', 'payment_method',\n",
       "                                                   'partner_id',\n",
       "                                                   'partner_category',\n",
       "                                                   'device_type',\n",
       "                                                   'partner_pricing_category',\n",
       "                                                   'year', 'month', 'day',\n",
       "                                                   'timebins'])])),\n",
       "                ('model', KNeighborsClassifier(metric='euclidean'))])"
      ]
     },
     "execution_count": 75,
     "metadata": {},
     "output_type": "execute_result"
    }
   ],
   "source": [
    "# Bundle preprocessing and modeling code in a pipeline\n",
    "knn_pipeline2 = Pipeline(steps=[('Preprocessor', preprocessor),\n",
    "                               ('model', knn_model2)\n",
    "                             ])\n",
    "\n",
    "# Preprocessing of training data, fit model \n",
    "knn_pipeline2.fit(X_train, y_train)"
   ]
  },
  {
   "cell_type": "code",
   "execution_count": 76,
   "metadata": {},
   "outputs": [
    {
     "name": "stdout",
     "output_type": "stream",
     "text": [
      "\n",
      "TRAIN METRICS FOR THE KNN MODEL\n",
      "\n",
      "Confusion Matrix :\n",
      "[[53457     5]\n",
      " [   16    92]]\n",
      "\n",
      "Report : \n",
      "              precision    recall  f1-score   support\n",
      "\n",
      "           0       1.00      1.00      1.00     53462\n",
      "           1       0.95      0.85      0.90       108\n",
      "\n",
      "    accuracy                           1.00     53570\n",
      "   macro avg       0.97      0.93      0.95     53570\n",
      "weighted avg       1.00      1.00      1.00     53570\n",
      "\n",
      "\n",
      "Accuracy Score : 0.9996079895463879\n",
      "\n",
      "AUC Score : 0.9999449245362231\n",
      "\n",
      "*******************************************************\n",
      "\n",
      "TEST METRICS FOR THE KNN MODEL\n",
      "\n",
      "Confusion Matrix :\n",
      "[[22908     5]\n",
      " [   16    30]]\n",
      "\n",
      "Report : \n",
      "              precision    recall  f1-score   support\n",
      "\n",
      "           0       1.00      1.00      1.00     22913\n",
      "           1       0.86      0.65      0.74        46\n",
      "\n",
      "    accuracy                           1.00     22959\n",
      "   macro avg       0.93      0.83      0.87     22959\n",
      "weighted avg       1.00      1.00      1.00     22959\n",
      "\n",
      "\n",
      "Accuracy Score : 0.9990853260159415\n",
      "\n",
      "AUC Score : 0.9998396581397688\n",
      "\n"
     ]
    }
   ],
   "source": [
    "print(\"\\nTRAIN METRICS FOR THE KNN MODEL\")\n",
    "print(fn_compute_metrics(knn_pipeline2,'knn2_train', X_train, y_train))\n",
    "print(\"*****\"*11)\n",
    "print(\"\\nTEST METRICS FOR THE KNN MODEL\")\n",
    "print(fn_compute_metrics(knn_pipeline2,'knn2_test', X_test, y_test))"
   ]
  },
  {
   "cell_type": "code",
   "execution_count": 77,
   "metadata": {},
   "outputs": [
    {
     "data": {
      "text/html": [
       "<div>\n",
       "<style scoped>\n",
       "    .dataframe tbody tr th:only-of-type {\n",
       "        vertical-align: middle;\n",
       "    }\n",
       "\n",
       "    .dataframe tbody tr th {\n",
       "        vertical-align: top;\n",
       "    }\n",
       "\n",
       "    .dataframe thead th {\n",
       "        text-align: right;\n",
       "    }\n",
       "</style>\n",
       "<table border=\"1\" class=\"dataframe\">\n",
       "  <thead>\n",
       "    <tr style=\"text-align: right;\">\n",
       "      <th></th>\n",
       "      <th>model</th>\n",
       "      <th>Accuracy</th>\n",
       "      <th>precision_1class</th>\n",
       "      <th>precision_0class</th>\n",
       "      <th>recall_1class</th>\n",
       "      <th>recall_0class</th>\n",
       "      <th>f1score_1class</th>\n",
       "      <th>f1score_0class</th>\n",
       "      <th>AUC_value</th>\n",
       "    </tr>\n",
       "  </thead>\n",
       "  <tbody>\n",
       "    <tr>\n",
       "      <th>0</th>\n",
       "      <td>logistic_train</td>\n",
       "      <td>0.999</td>\n",
       "      <td>0.766</td>\n",
       "      <td>0.999</td>\n",
       "      <td>0.454</td>\n",
       "      <td>1.000</td>\n",
       "      <td>0.570</td>\n",
       "      <td>0.999</td>\n",
       "      <td>0.996</td>\n",
       "    </tr>\n",
       "    <tr>\n",
       "      <th>1</th>\n",
       "      <td>logistic_test</td>\n",
       "      <td>0.999</td>\n",
       "      <td>0.818</td>\n",
       "      <td>0.999</td>\n",
       "      <td>0.391</td>\n",
       "      <td>1.000</td>\n",
       "      <td>0.529</td>\n",
       "      <td>0.999</td>\n",
       "      <td>0.983</td>\n",
       "    </tr>\n",
       "    <tr>\n",
       "      <th>2</th>\n",
       "      <td>xgb_pipeline_train</td>\n",
       "      <td>1.000</td>\n",
       "      <td>0.964</td>\n",
       "      <td>1.000</td>\n",
       "      <td>0.991</td>\n",
       "      <td>1.000</td>\n",
       "      <td>0.977</td>\n",
       "      <td>1.000</td>\n",
       "      <td>1.000</td>\n",
       "    </tr>\n",
       "    <tr>\n",
       "      <th>3</th>\n",
       "      <td>xgb_pipeline_test</td>\n",
       "      <td>1.000</td>\n",
       "      <td>0.955</td>\n",
       "      <td>1.000</td>\n",
       "      <td>0.913</td>\n",
       "      <td>1.000</td>\n",
       "      <td>0.933</td>\n",
       "      <td>1.000</td>\n",
       "      <td>1.000</td>\n",
       "    </tr>\n",
       "    <tr>\n",
       "      <th>4</th>\n",
       "      <td>knn2_train</td>\n",
       "      <td>1.000</td>\n",
       "      <td>0.948</td>\n",
       "      <td>1.000</td>\n",
       "      <td>0.852</td>\n",
       "      <td>1.000</td>\n",
       "      <td>0.898</td>\n",
       "      <td>1.000</td>\n",
       "      <td>1.000</td>\n",
       "    </tr>\n",
       "    <tr>\n",
       "      <th>5</th>\n",
       "      <td>knn2_test</td>\n",
       "      <td>0.999</td>\n",
       "      <td>0.857</td>\n",
       "      <td>0.999</td>\n",
       "      <td>0.652</td>\n",
       "      <td>1.000</td>\n",
       "      <td>0.741</td>\n",
       "      <td>1.000</td>\n",
       "      <td>1.000</td>\n",
       "    </tr>\n",
       "  </tbody>\n",
       "</table>\n",
       "</div>"
      ],
      "text/plain": [
       "                model  Accuracy  precision_1class  precision_0class  \\\n",
       "0      logistic_train     0.999             0.766             0.999   \n",
       "1       logistic_test     0.999             0.818             0.999   \n",
       "2  xgb_pipeline_train     1.000             0.964             1.000   \n",
       "3   xgb_pipeline_test     1.000             0.955             1.000   \n",
       "4          knn2_train     1.000             0.948             1.000   \n",
       "5           knn2_test     0.999             0.857             0.999   \n",
       "\n",
       "   recall_1class  recall_0class  f1score_1class  f1score_0class  AUC_value  \n",
       "0          0.454          1.000           0.570           0.999      0.996  \n",
       "1          0.391          1.000           0.529           0.999      0.983  \n",
       "2          0.991          1.000           0.977           1.000      1.000  \n",
       "3          0.913          1.000           0.933           1.000      1.000  \n",
       "4          0.852          1.000           0.898           1.000      1.000  \n",
       "5          0.652          1.000           0.741           1.000      1.000  "
      ]
     },
     "execution_count": 77,
     "metadata": {},
     "output_type": "execute_result"
    }
   ],
   "source": [
    "metrics"
   ]
  },
  {
   "cell_type": "markdown",
   "metadata": {},
   "source": [
    "# XGBoost Classifier1"
   ]
  },
  {
   "cell_type": "code",
   "execution_count": 72,
   "metadata": {},
   "outputs": [
    {
     "name": "stdout",
     "output_type": "stream",
     "text": [
      "\n",
      "TRAIN METRICS FOR THE BASE MODEL\n",
      "\n",
      "Confusion Matrix :\n",
      "[[53458     4]\n",
      " [    1   107]]\n",
      "\n",
      "Report : \n",
      "              precision    recall  f1-score   support\n",
      "\n",
      "           0       1.00      1.00      1.00     53462\n",
      "           1       0.96      0.99      0.98       108\n",
      "\n",
      "    accuracy                           1.00     53570\n",
      "   macro avg       0.98      1.00      0.99     53570\n",
      "weighted avg       1.00      1.00      1.00     53570\n",
      "\n",
      "\n",
      "Accuracy Score : 0.9999066641777115\n",
      "\n",
      "AUC Score : 0.999998874243665\n",
      "\n",
      "*******************************************************\n",
      "\n",
      "TEST METRICS FOR THE BASE MODEL\n",
      "\n",
      "Confusion Matrix :\n",
      "[[22911     2]\n",
      " [    4    42]]\n",
      "\n",
      "Report : \n",
      "              precision    recall  f1-score   support\n",
      "\n",
      "           0       1.00      1.00      1.00     22913\n",
      "           1       0.95      0.91      0.93        46\n",
      "\n",
      "    accuracy                           1.00     22959\n",
      "   macro avg       0.98      0.96      0.97     22959\n",
      "weighted avg       1.00      1.00      1.00     22959\n",
      "\n",
      "\n",
      "Accuracy Score : 0.9997386645759833\n",
      "\n",
      "AUC Score : 0.9998776088759181\n",
      "\n",
      "Wall time: 56 s\n"
     ]
    }
   ],
   "source": [
    "%%time\n",
    "\n",
    "\n",
    "xgb_model = XGBClassifier(n_estimators = 1000,\n",
    "                          learning_rate = 0.05,\n",
    "                          early_stopping_rounds=5,\n",
    "                          n_jobs = 4,\n",
    "                          random_state = 2,\n",
    "                          verbosity = 0)\n",
    "\n",
    "\n",
    "\n",
    "# Bundle preprocessing and modeling code in a pipeline\n",
    "xgb_pipeline = Pipeline(steps=[('Preprocessor', preprocessor),\n",
    "                              ('model', xgb_model)\n",
    "                             ])\n",
    "\n",
    "# Preprocessing of training data, fit model \n",
    "xgb_pipeline.fit(X_train, y_train)\n",
    "\n",
    "print(\"\\nTRAIN METRICS FOR THE BASE MODEL\")\n",
    "print(fn_compute_metrics(xgb_pipeline,'xgb_pipeline_train',X_train, y_train))\n",
    "print(\"*****\"*11)\n",
    "print(\"\\nTEST METRICS FOR THE BASE MODEL\")\n",
    "print(fn_compute_metrics(xgb_pipeline,'xgb_pipeline_test',X_test, y_test))\n"
   ]
  },
  {
   "cell_type": "code",
   "execution_count": 73,
   "metadata": {},
   "outputs": [
    {
     "data": {
      "text/html": [
       "<div>\n",
       "<style scoped>\n",
       "    .dataframe tbody tr th:only-of-type {\n",
       "        vertical-align: middle;\n",
       "    }\n",
       "\n",
       "    .dataframe tbody tr th {\n",
       "        vertical-align: top;\n",
       "    }\n",
       "\n",
       "    .dataframe thead th {\n",
       "        text-align: right;\n",
       "    }\n",
       "</style>\n",
       "<table border=\"1\" class=\"dataframe\">\n",
       "  <thead>\n",
       "    <tr style=\"text-align: right;\">\n",
       "      <th></th>\n",
       "      <th>model</th>\n",
       "      <th>Accuracy</th>\n",
       "      <th>precision_1class</th>\n",
       "      <th>precision_0class</th>\n",
       "      <th>recall_1class</th>\n",
       "      <th>recall_0class</th>\n",
       "      <th>f1score_1class</th>\n",
       "      <th>f1score_0class</th>\n",
       "      <th>AUC_value</th>\n",
       "    </tr>\n",
       "  </thead>\n",
       "  <tbody>\n",
       "    <tr>\n",
       "      <th>0</th>\n",
       "      <td>logistic_train</td>\n",
       "      <td>0.999</td>\n",
       "      <td>0.766</td>\n",
       "      <td>0.999</td>\n",
       "      <td>0.454</td>\n",
       "      <td>1.000</td>\n",
       "      <td>0.570</td>\n",
       "      <td>0.999</td>\n",
       "      <td>0.996</td>\n",
       "    </tr>\n",
       "    <tr>\n",
       "      <th>1</th>\n",
       "      <td>logistic_test</td>\n",
       "      <td>0.999</td>\n",
       "      <td>0.818</td>\n",
       "      <td>0.999</td>\n",
       "      <td>0.391</td>\n",
       "      <td>1.000</td>\n",
       "      <td>0.529</td>\n",
       "      <td>0.999</td>\n",
       "      <td>0.983</td>\n",
       "    </tr>\n",
       "    <tr>\n",
       "      <th>2</th>\n",
       "      <td>xgb_pipeline_train</td>\n",
       "      <td>1.000</td>\n",
       "      <td>0.964</td>\n",
       "      <td>1.000</td>\n",
       "      <td>0.991</td>\n",
       "      <td>1.000</td>\n",
       "      <td>0.977</td>\n",
       "      <td>1.000</td>\n",
       "      <td>1.000</td>\n",
       "    </tr>\n",
       "    <tr>\n",
       "      <th>3</th>\n",
       "      <td>xgb_pipeline_test</td>\n",
       "      <td>1.000</td>\n",
       "      <td>0.955</td>\n",
       "      <td>1.000</td>\n",
       "      <td>0.913</td>\n",
       "      <td>1.000</td>\n",
       "      <td>0.933</td>\n",
       "      <td>1.000</td>\n",
       "      <td>1.000</td>\n",
       "    </tr>\n",
       "  </tbody>\n",
       "</table>\n",
       "</div>"
      ],
      "text/plain": [
       "                model  Accuracy  precision_1class  precision_0class  \\\n",
       "0      logistic_train     0.999             0.766             0.999   \n",
       "1       logistic_test     0.999             0.818             0.999   \n",
       "2  xgb_pipeline_train     1.000             0.964             1.000   \n",
       "3   xgb_pipeline_test     1.000             0.955             1.000   \n",
       "\n",
       "   recall_1class  recall_0class  f1score_1class  f1score_0class  AUC_value  \n",
       "0          0.454          1.000           0.570           0.999      0.996  \n",
       "1          0.391          1.000           0.529           0.999      0.983  \n",
       "2          0.991          1.000           0.977           1.000      1.000  \n",
       "3          0.913          1.000           0.933           1.000      1.000  "
      ]
     },
     "execution_count": 73,
     "metadata": {},
     "output_type": "execute_result"
    }
   ],
   "source": [
    "metrics"
   ]
  },
  {
   "cell_type": "markdown",
   "metadata": {},
   "source": [
    "# XGB GRID custom error function"
   ]
  },
  {
   "cell_type": "code",
   "execution_count": null,
   "metadata": {},
   "outputs": [],
   "source": [
    "%%time\n",
    "\n",
    "xgb_customerror = XGBClassifier(learning_rate = 0.05,\n",
    "                                early_stopping_rounds=5,\n",
    "                                  n_jobs = 4,\n",
    "                                  random_state = 2,\n",
    "                                  verbosity = 0)\n",
    "# Bundle preprocessing and modeling code in a pipeline\n",
    "xgb_customerror = Pipeline(steps=[('Preprocessor', preprocessor),\n",
    "                              ('model', xgb_customerror)\n",
    "                             ])\n",
    "\n",
    "param_grid = {\"model__n_estimators\": [500,1000]}\n",
    "\n",
    "searchCV = GridSearchCV(xgb_customerror, \n",
    "                        cv=5, \n",
    "                        param_grid=param_grid,scoring = make_scorer(f1_score) )\n",
    "\n",
    "searchCV.fit(X_train, y_train)    \n",
    "\n",
    "\n",
    "print(\"\\nTRAIN METRICS FOR THE XGB GRID custom error function\")\n",
    "print(fn_compute_metrics(searchCV,'xgb_customerror',X_train, y_train))\n",
    "print(\"*****\"*11)\n",
    "print(\"\\nTEST METRICS FOR THE XGB GRID custom error function\")\n",
    "print(fn_compute_metrics(searchCV,'xgb_customerrort',X_test, y_test))"
   ]
  },
  {
   "cell_type": "code",
   "execution_count": null,
   "metadata": {},
   "outputs": [],
   "source": [
    "xgbbest2 = searchCV.best_estimator_\n",
    "xgbbest2"
   ]
  },
  {
   "cell_type": "markdown",
   "metadata": {},
   "source": [
    "# XGB model3 "
   ]
  },
  {
   "cell_type": "code",
   "execution_count": null,
   "metadata": {},
   "outputs": [],
   "source": [
    "%%time\n",
    "\n",
    "xgb_model3 = XGBClassifier(max_depth=4, learning_rate=0.1, n_estimators=500, verbosity=1, silent=None, \n",
    "                       objective='binary:logistic', booster='gbtree', n_jobs=1, nthread=None, \n",
    "                       gamma=0, min_child_weight=1, max_delta_step=0, subsample=1, \n",
    "                       colsample_bytree=1, colsample_bylevel=1, colsample_bynode=1, reg_alpha=0, reg_lambda=1, \n",
    "                           scale_pos_weight=1)\n",
    "\n",
    "\n",
    "# Bundle preprocessing and modeling code in a pipeline\n",
    "xgb_pipeline3 = Pipeline(steps=[('Preprocessor', preprocessor),\n",
    "                              ('model', xgb_model3)\n",
    "                             ])\n",
    "xgb_pipeline3.fit(X_train, y_train)  \n",
    "\n",
    "print(\"\\nTRAIN METRICS FOR THE BASE MODEL\")\n",
    "print(fn_compute_metrics(xgb_pipeline3,'xgb_pipeline4_train',X_train, y_train))\n",
    "print(\"*****\"*11)\n",
    "print(\"\\nTEST METRICS FOR THE BASE MODEL\")\n",
    "print(fn_compute_metrics(xgb_pipeline3,'xgb_pipeline4_test',X_test, y_test))"
   ]
  },
  {
   "cell_type": "code",
   "execution_count": null,
   "metadata": {},
   "outputs": [],
   "source": []
  },
  {
   "cell_type": "code",
   "execution_count": null,
   "metadata": {},
   "outputs": [],
   "source": [
    "metrics"
   ]
  },
  {
   "cell_type": "markdown",
   "metadata": {},
   "source": [
    "Decision Tree model2-grid1"
   ]
  },
  {
   "cell_type": "code",
   "execution_count": null,
   "metadata": {},
   "outputs": [],
   "source": [
    "%%time\n",
    "clf_dt = Pipeline(steps=[('Preprocessor', preprocessor),\n",
    "                      ('classifier', DecisionTreeClassifier())])\n",
    "\n",
    "dt_param_grid = {'classifier__max_depth' : range(1,8), \n",
    "              'classifier__min_impurity_decrease' : [0.01,0.05],\n",
    "              'classifier__min_samples_split':[3,5,7],\n",
    "              'classifier__criterion':['entropy']\n",
    "             }\n",
    "\n",
    "dt_grid1 = GridSearchCV(clf_dt, param_grid=dt_param_grid, cv=5,verbose=3)\n",
    "\n",
    "dt_grid1.fit(X_train,y_train)\n",
    "\n",
    "print(\"\\nTRAIN METRICS FOR THE DT GRID MODEL\")\n",
    "print(fn_compute_metrics(dt_grid1,'dt_grid1_train',X_train, y_train))\n",
    "print(\"*****\"*11)\n",
    "print(\"\\nTEST METRICS FOR THE DT GRID MODEL\")\n",
    "print(fn_compute_metrics(dt_grid1,'dt_grid1_test',X_test, y_test))"
   ]
  },
  {
   "cell_type": "code",
   "execution_count": null,
   "metadata": {},
   "outputs": [],
   "source": [
    "dt_best2 = dt_grid1.best_estimator_\n",
    "dt_best2"
   ]
  },
  {
   "cell_type": "markdown",
   "metadata": {},
   "source": [
    "# XGBoost Classifier Grid2"
   ]
  },
  {
   "cell_type": "code",
   "execution_count": null,
   "metadata": {},
   "outputs": [],
   "source": [
    "%%time\n",
    "\n",
    "xgb_model2 = XGBClassifier(early_stopping_rounds=5,\n",
    "                          n_jobs = 4,\n",
    "                          random_state = 2,\n",
    "                          verbosity = 0)\n",
    "\n",
    "\n",
    "# Bundle preprocessing and modeling code in a pipeline\n",
    "xgb_pipeline2 = Pipeline(steps=[('Preprocessor', preprocessor),\n",
    "                              ('model', xgb_model2)\n",
    "                             ])\n",
    "param_grid = {\n",
    "    \"model__n_estimators\": [10, 50, 100, 500],\n",
    "    \"model__learning_rate\": [0.05, 0.1, 0.5, 1],\n",
    "}\n",
    "\n",
    "\n",
    "searchCV = GridSearchCV(xgb_pipeline2, \n",
    "                        cv=5, \n",
    "                        param_grid=param_grid)\n",
    "\n",
    "searchCV.fit(X_train, y_train)  \n",
    "\n",
    "\n",
    "print(\"\\nTRAIN METRICS FOR THE BASE MODEL\")\n",
    "print(fn_compute_metrics(searchCV,'xgb_pipeline2_train',X_train, y_train))\n",
    "print(\"*****\"*11)\n",
    "print(\"\\nTEST METRICS FOR THE BASE MODEL\")\n",
    "print(fn_compute_metrics(searchCV,'xgb_pipeline2_test',X_test, y_test))"
   ]
  },
  {
   "cell_type": "code",
   "execution_count": null,
   "metadata": {},
   "outputs": [],
   "source": [
    "xgb_best3 = searchCV.best_estimator_\n",
    "xgb_best3"
   ]
  },
  {
   "cell_type": "code",
   "execution_count": null,
   "metadata": {},
   "outputs": [],
   "source": [
    "metrics"
   ]
  },
  {
   "cell_type": "code",
   "execution_count": null,
   "metadata": {},
   "outputs": [],
   "source": []
  },
  {
   "cell_type": "markdown",
   "metadata": {},
   "source": [
    "# Random Forest Classifier Grid1"
   ]
  },
  {
   "cell_type": "code",
   "execution_count": null,
   "metadata": {},
   "outputs": [],
   "source": [
    "%%time\n",
    "\n",
    "clf = Pipeline(steps=[('Preprocessor', preprocessor),\n",
    "                      ('classifier', RandomForestClassifier(n_jobs = -1))])\n",
    "\n",
    "kfold = StratifiedKFold(n_splits=5, shuffle=True, random_state=143)\n",
    "\n",
    "param_grid = {\"classifier__n_estimators\" : [150,300,500],\n",
    "              \"classifier__max_depth\" : [8,10],\n",
    "              \"classifier__max_features\" : [5, 7],\n",
    "              \"classifier__min_samples_leaf\" : [4, 6],\n",
    "             \"classifier__class_weight\":[\"balanced\"]}\n",
    "\n",
    "\n",
    "\n",
    "rf_grid = GridSearchCV(clf, param_grid=param_grid, cv=kfold,verbose=2)\n",
    "\n",
    "\n",
    "rf_grid.fit(X_train,y_train)\n",
    "\n",
    "rf_grid.best_params_"
   ]
  },
  {
   "cell_type": "code",
   "execution_count": null,
   "metadata": {},
   "outputs": [],
   "source": [
    "rf_grid_best = rf_grid.best_estimator_"
   ]
  },
  {
   "cell_type": "code",
   "execution_count": null,
   "metadata": {},
   "outputs": [],
   "source": [
    "print(\"\\nTRAIN METRICS FOR THE BASE MODEL\")\n",
    "print(fn_compute_metrics(rf_grid,'rf_grid_train',X_train, y_train))\n",
    "print(\"*****\"*11)\n",
    "print(\"\\nTEST METRICS FOR THE BASE MODEL\")\n",
    "print(fn_compute_metrics(rf_grid,'rf_grid_test',X_test, y_test))"
   ]
  },
  {
   "cell_type": "code",
   "execution_count": null,
   "metadata": {},
   "outputs": [],
   "source": [
    "metrics"
   ]
  },
  {
   "cell_type": "markdown",
   "metadata": {},
   "source": [
    "# Final Model for submission2 by merging data back"
   ]
  },
  {
   "cell_type": "code",
   "execution_count": null,
   "metadata": {},
   "outputs": [],
   "source": [
    "X_train_all = pd.concat([X_train, X_test])\n",
    "y_train_all = pd.concat([y_train, y_test])\n",
    "\n",
    "print(X_train_all.shape, y_train_all.shape)"
   ]
  },
  {
   "cell_type": "code",
   "execution_count": null,
   "metadata": {},
   "outputs": [],
   "source": [
    "%%time\n",
    "\n",
    "\n",
    "xgb_model = XGBClassifier(n_estimators = 1000,\n",
    "                          learning_rate = 0.05,\n",
    "                          early_stopping_rounds=5,\n",
    "                          n_jobs = 4,\n",
    "                          random_state = 2,\n",
    "                          verbosity = 0)\n",
    "\n",
    "\n",
    "\n",
    "# Bundle preprocessing and modeling code in a pipeline\n",
    "xgb_pipeline = Pipeline(steps=[('Preprocessor', preprocessor),\n",
    "                              ('model', xgb_model)\n",
    "                             ])\n",
    "\n",
    "# Preprocessing of training data, fit model \n",
    "xgb_pipeline.fit(X_train, y_train)\n",
    "\n",
    "print(\"\\nTRAIN METRICS FOR THE BASE MODEL\")\n",
    "print(fn_compute_metrics(xgb_pipeline,'xgb_pipeline_train',X_train_all, y_train_all))"
   ]
  },
  {
   "cell_type": "code",
   "execution_count": null,
   "metadata": {},
   "outputs": [],
   "source": [
    "# Test Submission2"
   ]
  },
  {
   "cell_type": "markdown",
   "metadata": {},
   "source": [
    "# Test dataset preparation"
   ]
  },
  {
   "cell_type": "code",
   "execution_count": null,
   "metadata": {},
   "outputs": [],
   "source": [
    "test.head()"
   ]
  },
  {
   "cell_type": "code",
   "execution_count": null,
   "metadata": {},
   "outputs": [],
   "source": [
    "# let us see if there are any Nulls in test data.\n",
    "test_nulls = fn_nulls_count(test)\n",
    "test_nulls"
   ]
  },
  {
   "cell_type": "code",
   "execution_count": null,
   "metadata": {},
   "outputs": [],
   "source": [
    "#let us convert columns which are needed to be categorical as categorical\n",
    "print(columns_to_convert)"
   ]
  },
  {
   "cell_type": "code",
   "execution_count": null,
   "metadata": {},
   "outputs": [],
   "source": [
    "columns_to_change = columns_to_convert.copy()\n",
    "columns_to_change.remove('is_fraud')\n",
    "test[columns_to_change] = test[columns_to_change].astype('category')"
   ]
  },
  {
   "cell_type": "code",
   "execution_count": null,
   "metadata": {},
   "outputs": [],
   "source": [
    "#  creating categorical columns list\n",
    "test_categorical_columns = test.select_dtypes(include =['object','category']).columns.tolist()"
   ]
  },
  {
   "cell_type": "code",
   "execution_count": null,
   "metadata": {},
   "outputs": [],
   "source": [
    "test.dtypes"
   ]
  },
  {
   "cell_type": "code",
   "execution_count": null,
   "metadata": {},
   "outputs": [],
   "source": [
    "train.dtypes"
   ]
  },
  {
   "cell_type": "code",
   "execution_count": null,
   "metadata": {},
   "outputs": [],
   "source": [
    "#checking for columns which are in x train but not in test\n",
    "unique_cols_in_X_train = list(set(X_train.columns)-set(test.columns))\n",
    "\n",
    "#checking for columns which are in test but not in x train\n",
    "unique_cols_in_test =  list(set(test.columns)-set(X_train.columns))\n",
    "\n",
    "print(unique_cols_in_X_train)\n",
    "print(unique_cols_in_test)\n"
   ]
  },
  {
   "cell_type": "code",
   "execution_count": null,
   "metadata": {},
   "outputs": [],
   "source": [
    "test_pred2 = xgb_pipeline.predict(test)\n",
    "test_pred2"
   ]
  },
  {
   "cell_type": "code",
   "execution_count": null,
   "metadata": {},
   "outputs": [],
   "source": [
    "submissions_df = pd.DataFrame({'transaction_number': transaction_number_test, 'is_fraud': test_pred2})\n",
    "submissions_df.to_csv(\"C:\\\\Users\\\\shashidhar\\\\Desktop\\\\INSOFE\\\\7402c\\\\mith shashidhar\\\\submissions2.csv\",index=False)\n",
    "submissions_df.tail()"
   ]
  },
  {
   "cell_type": "code",
   "execution_count": null,
   "metadata": {},
   "outputs": [],
   "source": []
  },
  {
   "cell_type": "markdown",
   "metadata": {},
   "source": [
    "# Voting Classifier"
   ]
  },
  {
   "cell_type": "code",
   "execution_count": null,
   "metadata": {},
   "outputs": [],
   "source": [
    "#using voting classifier to combine the predictions from different models .\n",
    "#'soft' vote predicts the class label based on the argmax of the sums of the predicted probabilities.\n",
    "#‘hard’, uses predicted class labels for majority rule voting.\n",
    "\n",
    "#giving the best estimator from diff models as input\n",
    "\n",
    "votingC = VotingClassifier(estimators=[('knn_pipeline1',knn_pipeline1),\n",
    "('xgb_best3', xgb_best3 ), ('xgb_pipeline3',xgb_pipeline3),('xgb_pipeline',xgb_pipeline),(\"xgbbest2\",xgbbest2)], voting='soft', n_jobs=4)\n",
    "\n",
    "votingC = votingC.fit(X_train, y_train)"
   ]
  },
  {
   "cell_type": "code",
   "execution_count": null,
   "metadata": {},
   "outputs": [],
   "source": [
    "#using compute func it predicts with the model and compares it with actual y train then gives the confusion matrix\n",
    "\n",
    "print(\"\\nTRAIN METRICS FOR THE BASE MODEL\")\n",
    "print(fn_compute_metrics(votingC,'Votingc', X_train, y_train))\n",
    "\n",
    "print(\"*****\"*11)\n",
    "\n",
    "print(\"\\nTEST METRICS FOR THE BASE MODEL\")\n",
    "print(fn_compute_metrics(votingC,'Votingc', X_test, y_test))"
   ]
  },
  {
   "cell_type": "code",
   "execution_count": null,
   "metadata": {},
   "outputs": [],
   "source": [
    "metrics"
   ]
  },
  {
   "cell_type": "code",
   "execution_count": null,
   "metadata": {},
   "outputs": [],
   "source": [
    "#getting final model with \n",
    "votingC1 = VotingClassifier(estimators=[('dt_best2',dt_best2), ('knn_pipeline1',knn_pipeline1),\n",
    "('xgb_best3', xgb_best3 ), ('xgb_pipeline3',xgb_pipeline3),('xgb_pipeline',xgb_pipeline),(\"xgbbest2\",xgbbest2)], voting='soft', n_jobs=4)\n",
    "\n",
    "\n",
    "Final_modelc = votingC1.fit(X_train_all,y_train_all)"
   ]
  },
  {
   "cell_type": "code",
   "execution_count": null,
   "metadata": {},
   "outputs": [],
   "source": [
    "print(\"\\nTRAIN METRICS FOR THE BASE MODEL\")\n",
    "print(fn_compute_metrics(Final_modelc,'Final model_Votingc', X_train_all, y_train_all))"
   ]
  },
  {
   "cell_type": "code",
   "execution_count": null,
   "metadata": {},
   "outputs": [],
   "source": [
    "test_pred3 = Final_modelc.predict(test)\n",
    "test_pred3"
   ]
  },
  {
   "cell_type": "code",
   "execution_count": null,
   "metadata": {},
   "outputs": [],
   "source": [
    "submissions_df = pd.DataFrame({'transaction_number': transaction_number_test, 'is_fraud': test_pred3})\n",
    "submissions_df.to_csv(\"C:\\\\Users\\\\shashidhar\\\\Desktop\\\\INSOFE\\\\7402c\\\\mith shashidhar\\\\submissions3.csv\",index=False)\n",
    "submissions_df.tail()"
   ]
  },
  {
   "cell_type": "code",
   "execution_count": null,
   "metadata": {},
   "outputs": [],
   "source": [
    "%%time\n",
    "#submission4,final model,previous did some mistake of not fitting with all data\n",
    "\n",
    "xgb_model = XGBClassifier(n_estimators = 1000,\n",
    "                          learning_rate = 0.05,\n",
    "                          early_stopping_rounds=5,\n",
    "                          n_jobs = 4,\n",
    "                          random_state = 2,\n",
    "                          verbosity = 0)\n",
    "\n",
    "\n",
    "\n",
    "# Bundle preprocessing and modeling code in a pipeline\n",
    "xgb_pipeline = Pipeline(steps=[('Preprocessor', preprocessor),\n",
    "                              ('model', xgb_model)\n",
    "                             ])\n",
    "\n",
    "# Preprocessing of training data, fit model \n",
    "xgb_pipeline.fit(X_train_all, y_train_all)\n",
    "\n",
    "print(\"\\nTRAIN METRICS FOR THE BASE MODEL\")\n",
    "print(fn_compute_metrics(xgb_pipeline,'xgb_pipeline_train',X_train_all, y_train_all))"
   ]
  },
  {
   "cell_type": "code",
   "execution_count": null,
   "metadata": {},
   "outputs": [],
   "source": [
    "test_pred4 = Final_modelc.predict(test)\n",
    "test_pred4"
   ]
  },
  {
   "cell_type": "code",
   "execution_count": null,
   "metadata": {},
   "outputs": [],
   "source": [
    "submissions_df = pd.DataFrame({'transaction_number': transaction_number_test, 'is_fraud': test_pred4})\n",
    "submissions_df.to_csv(\"C:\\\\Users\\\\shashidhar\\\\Desktop\\\\INSOFE\\\\7402c\\\\mith shashidhar\\\\submissions4.csv\",index=False)\n",
    "submissions_df.tail()"
   ]
  },
  {
   "cell_type": "markdown",
   "metadata": {},
   "source": [
    "# Features Importance"
   ]
  },
  {
   "cell_type": "code",
   "execution_count": null,
   "metadata": {},
   "outputs": [],
   "source": [
    "#pl = rf_grid.best_estimator_.named_steps['preprocessor']\n",
    "#catpl = pl.named_transformers_['cat']\n",
    "#ohe = catpl.named_steps['onehot']\n",
    "#ohe_features = ohe.get_feature_names()\n",
    "#print(ohe_features)\n",
    "\n",
    "pl = xgb_best3.named_steps['Preprocessor']\n",
    "catpl = pl.named_transformers_['cat_trf']\n",
    "ohe = catpl.named_steps['cat_onehotencode']\n",
    "ohe_features = ohe.get_feature_names()\n",
    "print(ohe_features)"
   ]
  },
  {
   "cell_type": "code",
   "execution_count": null,
   "metadata": {},
   "outputs": [],
   "source": [
    "len(ohe_features)"
   ]
  },
  {
   "cell_type": "code",
   "execution_count": null,
   "metadata": {},
   "outputs": [],
   "source": [
    "print(numerical_columns)\n",
    "numcols = numerical_columns.copy()\n",
    "numcols.extend(ohe_features)"
   ]
  },
  {
   "cell_type": "code",
   "execution_count": null,
   "metadata": {},
   "outputs": [],
   "source": [
    "len(numcols)"
   ]
  },
  {
   "cell_type": "code",
   "execution_count": null,
   "metadata": {},
   "outputs": [],
   "source": [
    "#feature_imp = rf_grid.best_estimator_.steps[1][1].feature_importances_\n",
    "feature_imp = xgb_pipeline3.steps[1][1].feature_importances_\n",
    "print(feature_imp)"
   ]
  },
  {
   "cell_type": "code",
   "execution_count": null,
   "metadata": {},
   "outputs": [],
   "source": [
    "feature_imp_df = pd.DataFrame(feature_imp.tolist(),index =numcols,columns=['var_imp'])\n",
    "feature_imp_df = feature_imp_df.sort_values(by=\"var_imp\",ascending=False)\n",
    "feature_imp_df.head(8)"
   ]
  },
  {
   "cell_type": "code",
   "execution_count": null,
   "metadata": {
    "scrolled": true
   },
   "outputs": [],
   "source": [
    "feature_imp_df[:15].plot(kind='bar')"
   ]
  },
  {
   "cell_type": "code",
   "execution_count": null,
   "metadata": {},
   "outputs": [],
   "source": [
    "#interestingly,X7-24,X7-1 is having high importance,24th day and 1st in a month is having more importance in the month\n",
    "#so there should be more fraud transactions on those days\n",
    "#creditcard has more feature importance. so there should be many fraud transactions (minority class) \n",
    "#client should impose more security on credicard high value transactions\n",
    "# x7-1, 1st day of the month \n",
    "#x6-1 and x6-2, 1st and 2nd month of the year has many fraud transactions\n",
    "#x1-78890, partner id has more important, client look should see into this partner transactions."
   ]
  },
  {
   "cell_type": "code",
   "execution_count": null,
   "metadata": {},
   "outputs": [],
   "source": [
    "list1 = [xgbbest2,rf_grid_best]\n",
    "modelnames = ['xgbbest2',\"rf_grid_best\"]"
   ]
  },
  {
   "cell_type": "code",
   "execution_count": null,
   "metadata": {},
   "outputs": [],
   "source": [
    "#function to plot roc curves\n",
    "#Higher the area under the curve(greater auc is better) better is the model,choose model based on higher auc value\n",
    "def plot_roc_curve(model_list,data,actuals,modelnames):\n",
    "        plt.figure(figsize=(8,8))\n",
    "        plt.title('ROC Curve')\n",
    "        plt.axis([-0.005, 1, 0, 1.005])\n",
    "        plt.xticks(np.arange(0,1, 0.05), rotation=90)\n",
    "        plt.xlabel(\"False Positive Rate\")\n",
    "        plt.ylabel(\"True Positive Rate (Recall)\")\n",
    "        \n",
    "        for i in (0,(len(model_list)-1)):\n",
    "            model = model_list[i]\n",
    "            lb = LabelBinarizer()\n",
    "\n",
    "            actuals = lb.fit_transform(actuals)\n",
    "            \n",
    "            y_scores = []\n",
    "            y_scores = model.predict_proba(data)[:, 1]\n",
    "            AUC_value = roc_auc_score(actuals, y_scores)\n",
    "\n",
    "            modelname = modelnames[i]\n",
    "            fpr, tpr, auc_thresholds = roc_curve(actuals, y_scores)\n",
    "            print('\\n', modelname, 'AUC Score :',round(AUC_value,3)) # AUC of ROC\n",
    "           \n",
    "            label1 = modelnames[i]\n",
    "            plt.plot(fpr, tpr, linewidth=2,label = label1)\n",
    "            plt.legend(loc='best')\n",
    "            plt.plot([0, 1], [0, 1], 'k--')   "
   ]
  },
  {
   "cell_type": "code",
   "execution_count": null,
   "metadata": {},
   "outputs": [],
   "source": [
    " plot_roc_curve(list1,X_test, y_test,modelnames)"
   ]
  },
  {
   "cell_type": "code",
   "execution_count": null,
   "metadata": {},
   "outputs": [],
   "source": [
    "# Xgb best2 is little higher in AUc value as compared to random forest model\n",
    "#checking models for models selection\n",
    "#xgbm is handling this problem well to find the better f1 score as compared to random forest"
   ]
  },
  {
   "cell_type": "markdown",
   "metadata": {},
   "source": [
    "summary:\n",
    "  1. Extracted some features of days,month,year from transaction_initiation column.\n",
    "  2. logistic regression is plotted to see how the linear model is performing then \n",
    "  3. Initial model with KNN with k=3 neighbours\n",
    "  4. second model with decision tree model ,it didnot perform well as compared to \n",
    "  5. third model with with kNN with k=5,drop in values of f1 score as compared k with 3\n",
    "  6. next model with Xgbm did very good and tried iterating with grid and also tried to change metric to f1score using      makescorer but there was no significant in f1 score\n",
    "  7. Tried with voting C which did same as compared to xgbm."
   ]
  },
  {
   "cell_type": "markdown",
   "metadata": {},
   "source": [
    "#some Insights from plots and recommendation to client\n",
    "1. high value transactions are having more fraud ,certainly he should look into them and pose more security while those transactions are happening like asking for some more personal details or finger print authorization or calling the customer to make sure if this is him who is making the transaction and keep hold of it until the customer confirms.\n",
    "2. interesting to see that, in cat 1 the fraud money transacted value median is higher than cat2\n",
    "3. cat8 has only 19 transactions which is very less but we can see some fraudulent transaction cat8.\n",
    "4. client should focus on partner category of cat1,cat2,cat8\n",
    "5. slightly orange color is visble there in other pcs.so other pcs is what where many of the fraud transactions are present.\n",
    "    company should focus on this mode of transaction as well\n",
    "6. interestingly,X7-24,X7-1 is having high importance,24th day and 1st day in a month is having more importance in the month\n",
    "    so there should be more fraud transactions on those days\n",
    "7. creditcard has more feature importance. so there should be many fraud transactions (minority class) \n",
    "    #client should impose more security on credicard high value transactions\n",
    "8. x6-1 and x6-2 has more importance we can say 1st and 2nd month of the year has many fraud transactions\n",
    "9. x1-78890, partner id has more important, client look should see into this partner transactions."
   ]
  },
  {
   "cell_type": "code",
   "execution_count": null,
   "metadata": {},
   "outputs": [],
   "source": [
    "#final metrics of diff models\n",
    "metrics"
   ]
  }
 ],
 "metadata": {
  "kernelspec": {
   "display_name": "Python 3",
   "language": "python",
   "name": "python3"
  },
  "language_info": {
   "codemirror_mode": {
    "name": "ipython",
    "version": 3
   },
   "file_extension": ".py",
   "mimetype": "text/x-python",
   "name": "python",
   "nbconvert_exporter": "python",
   "pygments_lexer": "ipython3",
   "version": "3.6.5"
  }
 },
 "nbformat": 4,
 "nbformat_minor": 4
}
